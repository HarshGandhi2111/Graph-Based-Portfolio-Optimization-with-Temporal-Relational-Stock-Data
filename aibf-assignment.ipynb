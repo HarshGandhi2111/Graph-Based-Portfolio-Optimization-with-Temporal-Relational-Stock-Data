{
 "cells": [
  {
   "cell_type": "code",
   "execution_count": 1,
   "id": "3ebbd2cc",
   "metadata": {
    "_cell_guid": "b1076dfc-b9ad-4769-8c92-a6c4dae69d19",
    "_uuid": "8f2839f25d086af736a60e9eeb907d3b93b6e0e5",
    "execution": {
     "iopub.execute_input": "2024-09-22T20:37:45.427721Z",
     "iopub.status.busy": "2024-09-22T20:37:45.427350Z",
     "iopub.status.idle": "2024-09-22T20:37:46.260960Z",
     "shell.execute_reply": "2024-09-22T20:37:46.260207Z"
    },
    "papermill": {
     "duration": 0.845226,
     "end_time": "2024-09-22T20:37:46.263366",
     "exception": false,
     "start_time": "2024-09-22T20:37:45.418140",
     "status": "completed"
    },
    "tags": []
   },
   "outputs": [],
   "source": [
    "# This Python 3 environment comes with many helpful analytics libraries installed\n",
    "# It is defined by the kaggle/python Docker image: https://github.com/kaggle/docker-python\n",
    "# For example, here's several helpful packages to load\n",
    "\n",
    "import numpy as np # linear algebra\n",
    "import pandas as pd # data processing, CSV file I/O (e.g. pd.read_csv)\n",
    "\n",
    "# Input data files are available in the read-only \"../input/\" directory\n",
    "# For example, running this (by clicking run or pressing Shift+Enter) will list all files under the input directory\n",
    "\n",
    "import os\n",
    "for dirname, _, filenames in os.walk('/kaggle/input'):\n",
    "    for filename in filenames:\n",
    "        print(os.path.join(dirname, filename))\n",
    "\n",
    "# You can write up to 20GB to the current directory (/kaggle/working/) that gets preserved as output when you create a version using \"Save & Run All\" \n",
    "# You can also write temporary files to /kaggle/temp/, but they won't be saved outside of the current session"
   ]
  },
  {
   "cell_type": "code",
   "execution_count": 2,
   "id": "24300d96",
   "metadata": {
    "execution": {
     "iopub.execute_input": "2024-09-22T20:37:46.280213Z",
     "iopub.status.busy": "2024-09-22T20:37:46.279754Z",
     "iopub.status.idle": "2024-09-22T20:40:06.902030Z",
     "shell.execute_reply": "2024-09-22T20:40:06.900815Z"
    },
    "papermill": {
     "duration": 140.633445,
     "end_time": "2024-09-22T20:40:06.904575",
     "exception": false,
     "start_time": "2024-09-22T20:37:46.271130",
     "status": "completed"
    },
    "tags": []
   },
   "outputs": [
    {
     "name": "stdout",
     "output_type": "stream",
     "text": [
      "\r\n",
      "\r\n",
      "\r\n",
      "The following additional packages will be installed:\r\n",
      "  swig4.0\r\n",
      "Suggested packages:\r\n",
      "  swig-doc swig-examples swig4.0-examples swig4.0-doc\r\n",
      "The following NEW packages will be installed:\r\n",
      "  swig swig4.0\r\n",
      "0 upgraded, 2 newly installed, 0 to remove and 39 not upgraded.\r\n",
      "Need to get 1116 kB of archives.\r\n",
      "After this operation, 5542 kB of additional disk space will be used.\r\n",
      "Get:1 http://archive.ubuntu.com/ubuntu jammy/universe amd64 swig4.0 amd64 4.0.2-1ubuntu1 [1110 kB]\r\n",
      "Get:2 http://archive.ubuntu.com/ubuntu jammy/universe amd64 swig all 4.0.2-1ubuntu1 [5632 B]\r\n",
      "Fetched 1116 kB in 1s (816 kB/s)\r\n",
      "\n",
      "\u001b7\u001b[0;23r\u001b8\u001b[1ASelecting previously unselected package swig4.0.\r\n",
      "(Reading database ... 123110 files and directories currently installed.)\r\n",
      "Preparing to unpack .../swig4.0_4.0.2-1ubuntu1_amd64.deb ...\r\n",
      "\u001b7\u001b[24;0f\u001b[42m\u001b[30mProgress: [  0%]\u001b[49m\u001b[39m [..........................................................] \u001b8\u001b7\u001b[24;0f\u001b[42m\u001b[30mProgress: [ 11%]\u001b[49m\u001b[39m [######....................................................] \u001b8Unpacking swig4.0 (4.0.2-1ubuntu1) ...\r\n",
      "\u001b7\u001b[24;0f\u001b[42m\u001b[30mProgress: [ 22%]\u001b[49m\u001b[39m [############..............................................] \u001b8Selecting previously unselected package swig.\r\n",
      "Preparing to unpack .../swig_4.0.2-1ubuntu1_all.deb ...\r\n",
      "\u001b7\u001b[24;0f\u001b[42m\u001b[30mProgress: [ 33%]\u001b[49m\u001b[39m [###################.......................................] \u001b8Unpacking swig (4.0.2-1ubuntu1) ...\r\n",
      "\u001b7\u001b[24;0f\u001b[42m\u001b[30mProgress: [ 44%]\u001b[49m\u001b[39m [#########################.................................] \u001b8Setting up swig4.0 (4.0.2-1ubuntu1) ...\r\n",
      "\u001b7\u001b[24;0f\u001b[42m\u001b[30mProgress: [ 56%]\u001b[49m\u001b[39m [################################..........................] \u001b8\u001b7\u001b[24;0f\u001b[42m\u001b[30mProgress: [ 67%]\u001b[49m\u001b[39m [######################################....................] \u001b8Setting up swig (4.0.2-1ubuntu1) ...\r\n",
      "\u001b7\u001b[24;0f\u001b[42m\u001b[30mProgress: [ 78%]\u001b[49m\u001b[39m [#############################################.............] \u001b8\u001b7\u001b[24;0f\u001b[42m\u001b[30mProgress: [ 89%]\u001b[49m\u001b[39m [###################################################.......] \u001b8Processing triggers for man-db (2.10.2-1) ...\r\n",
      "\r\n",
      "\u001b7\u001b[0;24r\u001b8\u001b[1A\u001b[JCollecting git+https://github.com/AI4Finance-Foundation/FinRL.git\r\n",
      "  Cloning https://github.com/AI4Finance-Foundation/FinRL.git to /tmp/pip-req-build-xci43eqo\r\n",
      "  Running command git clone --filter=blob:none --quiet https://github.com/AI4Finance-Foundation/FinRL.git /tmp/pip-req-build-xci43eqo\r\n",
      "  Resolved https://github.com/AI4Finance-Foundation/FinRL.git to commit fb330fab0d6336c190f1173dcdc36c729e95352b\r\n",
      "  Installing build dependencies ... \u001b[?25l-\b \b\\\b \b|\b \bdone\r\n",
      "\u001b[?25h  Getting requirements to build wheel ... \u001b[?25ldone\r\n",
      "\u001b[?25h  Preparing metadata (pyproject.toml) ... \u001b[?25ldone\r\n",
      "\u001b[?25hCollecting elegantrl@ git+https://github.com/AI4Finance-Foundation/ElegantRL.git#egg=elegantrl (from finrl==0.3.6)\r\n",
      "  Cloning https://github.com/AI4Finance-Foundation/ElegantRL.git to /tmp/pip-install-cdhx8y5p/elegantrl_f564848d1a0547a9b60ba335b23c3718\r\n",
      "  Running command git clone --filter=blob:none --quiet https://github.com/AI4Finance-Foundation/ElegantRL.git /tmp/pip-install-cdhx8y5p/elegantrl_f564848d1a0547a9b60ba335b23c3718\r\n",
      "  Resolved https://github.com/AI4Finance-Foundation/ElegantRL.git to commit da160146f83d9ce83e60c63268eea97d7dc8cbf4\r\n",
      "  Preparing metadata (setup.py) ... \u001b[?25ldone\r\n",
      "\u001b[?25hCollecting alpaca-trade-api<4,>=3 (from finrl==0.3.6)\r\n",
      "  Downloading alpaca_trade_api-3.2.0-py3-none-any.whl.metadata (29 kB)\r\n",
      "Collecting ccxt<4,>=3 (from finrl==0.3.6)\r\n",
      "  Downloading ccxt-3.1.60-py2.py3-none-any.whl.metadata (108 kB)\r\n",
      "\u001b[2K     \u001b[90m━━━━━━━━━━━━━━━━━━━━━━━━━━━━━━━━━━━━━━━\u001b[0m \u001b[32m108.7/108.7 kB\u001b[0m \u001b[31m3.8 MB/s\u001b[0m eta \u001b[36m0:00:00\u001b[0m\r\n",
      "\u001b[?25hCollecting exchange-calendars<5,>=4 (from finrl==0.3.6)\r\n",
      "  Downloading exchange_calendars-4.5.6-py3-none-any.whl.metadata (37 kB)\r\n",
      "Collecting jqdatasdk<2,>=1 (from finrl==0.3.6)\r\n",
      "  Downloading jqdatasdk-1.9.6-py3-none-any.whl.metadata (5.8 kB)\r\n",
      "Collecting pyfolio<0.10,>=0.9 (from finrl==0.3.6)\r\n",
      "  Downloading pyfolio-0.9.2.tar.gz (91 kB)\r\n",
      "\u001b[2K     \u001b[90m━━━━━━━━━━━━━━━━━━━━━━━━━━━━━━━━━━━━━━━━\u001b[0m \u001b[32m91.1/91.1 kB\u001b[0m \u001b[31m6.0 MB/s\u001b[0m eta \u001b[36m0:00:00\u001b[0m\r\n",
      "\u001b[?25h  Preparing metadata (setup.py) ... \u001b[?25l-\b \b\\\b \bdone\r\n",
      "\u001b[?25hCollecting pyportfolioopt<2,>=1 (from finrl==0.3.6)\r\n",
      "  Downloading pyportfolioopt-1.5.5-py3-none-any.whl.metadata (23 kB)\r\n",
      "Requirement already satisfied: ray<3,>=2 in /opt/conda/lib/python3.10/site-packages (from ray[default,tune]<3,>=2->finrl==0.3.6) (2.24.0)\r\n",
      "Requirement already satisfied: scikit-learn<2,>=1 in /opt/conda/lib/python3.10/site-packages (from finrl==0.3.6) (1.2.2)\r\n",
      "Requirement already satisfied: stable-baselines3>=2.0.0a5 in /opt/conda/lib/python3.10/site-packages (from stable-baselines3[extra]>=2.0.0a5->finrl==0.3.6) (2.1.0)\r\n",
      "Collecting stockstats<0.6,>=0.5 (from finrl==0.3.6)\r\n",
      "  Downloading stockstats-0.5.4-py2.py3-none-any.whl.metadata (26 kB)\r\n",
      "Collecting wrds<4,>=3 (from finrl==0.3.6)\r\n",
      "  Downloading wrds-3.2.0-py3-none-any.whl.metadata (5.8 kB)\r\n",
      "Collecting yfinance<0.3,>=0.2 (from finrl==0.3.6)\r\n",
      "  Downloading yfinance-0.2.43-py2.py3-none-any.whl.metadata (11 kB)\r\n",
      "Requirement already satisfied: pandas>=0.18.1 in /opt/conda/lib/python3.10/site-packages (from alpaca-trade-api<4,>=3->finrl==0.3.6) (2.2.2)\r\n",
      "Requirement already satisfied: numpy>=1.11.1 in /opt/conda/lib/python3.10/site-packages (from alpaca-trade-api<4,>=3->finrl==0.3.6) (1.26.4)\r\n",
      "Requirement already satisfied: requests<3,>2 in /opt/conda/lib/python3.10/site-packages (from alpaca-trade-api<4,>=3->finrl==0.3.6) (2.32.3)\r\n",
      "Requirement already satisfied: urllib3<2,>1.24 in /opt/conda/lib/python3.10/site-packages (from alpaca-trade-api<4,>=3->finrl==0.3.6) (1.26.18)\r\n",
      "Requirement already satisfied: websocket-client<2,>=0.56.0 in /opt/conda/lib/python3.10/site-packages (from alpaca-trade-api<4,>=3->finrl==0.3.6) (1.8.0)\r\n",
      "Collecting websockets<11,>=9.0 (from alpaca-trade-api<4,>=3->finrl==0.3.6)\r\n",
      "  Downloading websockets-10.4-cp310-cp310-manylinux_2_5_x86_64.manylinux1_x86_64.manylinux_2_17_x86_64.manylinux2014_x86_64.whl.metadata (6.4 kB)\r\n",
      "Collecting msgpack==1.0.3 (from alpaca-trade-api<4,>=3->finrl==0.3.6)\r\n",
      "  Downloading msgpack-1.0.3-cp310-cp310-manylinux_2_17_x86_64.manylinux2014_x86_64.whl.metadata (8.7 kB)\r\n",
      "Requirement already satisfied: aiohttp<4,>=3.8.3 in /opt/conda/lib/python3.10/site-packages (from alpaca-trade-api<4,>=3->finrl==0.3.6) (3.9.5)\r\n",
      "Collecting PyYAML==6.0.1 (from alpaca-trade-api<4,>=3->finrl==0.3.6)\r\n",
      "  Downloading PyYAML-6.0.1-cp310-cp310-manylinux_2_17_x86_64.manylinux2014_x86_64.whl.metadata (2.1 kB)\r\n",
      "Requirement already satisfied: deprecation==2.1.0 in /opt/conda/lib/python3.10/site-packages (from alpaca-trade-api<4,>=3->finrl==0.3.6) (2.1.0)\r\n",
      "Requirement already satisfied: packaging in /opt/conda/lib/python3.10/site-packages (from deprecation==2.1.0->alpaca-trade-api<4,>=3->finrl==0.3.6) (21.3)\r\n",
      "Requirement already satisfied: setuptools>=60.9.0 in /opt/conda/lib/python3.10/site-packages (from ccxt<4,>=3->finrl==0.3.6) (70.0.0)\r\n",
      "Requirement already satisfied: certifi>=2018.1.18 in /opt/conda/lib/python3.10/site-packages (from ccxt<4,>=3->finrl==0.3.6) (2024.7.4)\r\n",
      "Requirement already satisfied: cryptography>=2.6.1 in /opt/conda/lib/python3.10/site-packages (from ccxt<4,>=3->finrl==0.3.6) (42.0.8)\r\n",
      "Collecting aiodns>=1.1.1 (from ccxt<4,>=3->finrl==0.3.6)\r\n",
      "  Downloading aiodns-3.2.0-py3-none-any.whl.metadata (4.0 kB)\r\n",
      "Requirement already satisfied: yarl>=1.7.2 in /opt/conda/lib/python3.10/site-packages (from ccxt<4,>=3->finrl==0.3.6) (1.9.4)\r\n",
      "Collecting pyluach (from exchange-calendars<5,>=4->finrl==0.3.6)\r\n",
      "  Downloading pyluach-2.2.0-py3-none-any.whl.metadata (4.3 kB)\r\n",
      "Requirement already satisfied: toolz in /opt/conda/lib/python3.10/site-packages (from exchange-calendars<5,>=4->finrl==0.3.6) (0.12.1)\r\n",
      "Requirement already satisfied: tzdata in /opt/conda/lib/python3.10/site-packages (from exchange-calendars<5,>=4->finrl==0.3.6) (2024.1)\r\n",
      "Requirement already satisfied: korean-lunar-calendar in /opt/conda/lib/python3.10/site-packages (from exchange-calendars<5,>=4->finrl==0.3.6) (0.3.1)\r\n",
      "Requirement already satisfied: six in /opt/conda/lib/python3.10/site-packages (from jqdatasdk<2,>=1->finrl==0.3.6) (1.16.0)\r\n",
      "Requirement already satisfied: SQLAlchemy>=1.2.8 in /opt/conda/lib/python3.10/site-packages (from jqdatasdk<2,>=1->finrl==0.3.6) (2.0.30)\r\n",
      "Collecting pymysql>=0.7.6 (from jqdatasdk<2,>=1->finrl==0.3.6)\r\n",
      "  Downloading PyMySQL-1.1.1-py3-none-any.whl.metadata (4.4 kB)\r\n",
      "Collecting thriftpy2!=0.5.1,>=0.3.9 (from jqdatasdk<2,>=1->finrl==0.3.6)\r\n",
      "  Downloading thriftpy2-0.5.2.tar.gz (782 kB)\r\n",
      "\u001b[2K     \u001b[90m━━━━━━━━━━━━━━━━━━━━━━━━━━━━━━━━━━━━━━\u001b[0m \u001b[32m782.3/782.3 kB\u001b[0m \u001b[31m28.6 MB/s\u001b[0m eta \u001b[36m0:00:00\u001b[0m\r\n",
      "\u001b[?25h  Installing build dependencies ... \u001b[?25l-\b \b\\\b \b|\b \b/\b \b-\b \b\\\b \bdone\r\n",
      "\u001b[?25h  Getting requirements to build wheel ... \u001b[?25l-\b \b\\\b \b|\b \b/\b \b-\b \b\\\b \b|\b \b/\b \bdone\r\n",
      "\u001b[?25h  Preparing metadata (pyproject.toml) ... \u001b[?25l-\b \bdone\r\n",
      "\u001b[?25hRequirement already satisfied: ipython>=3.2.3 in /opt/conda/lib/python3.10/site-packages (from pyfolio<0.10,>=0.9->finrl==0.3.6) (8.21.0)\r\n",
      "Requirement already satisfied: matplotlib>=1.4.0 in /opt/conda/lib/python3.10/site-packages (from pyfolio<0.10,>=0.9->finrl==0.3.6) (3.7.5)\r\n",
      "Requirement already satisfied: pytz>=2014.10 in /opt/conda/lib/python3.10/site-packages (from pyfolio<0.10,>=0.9->finrl==0.3.6) (2024.1)\r\n",
      "Requirement already satisfied: scipy>=0.14.0 in /opt/conda/lib/python3.10/site-packages (from pyfolio<0.10,>=0.9->finrl==0.3.6) (1.14.0)\r\n",
      "Requirement already satisfied: seaborn>=0.7.1 in /opt/conda/lib/python3.10/site-packages (from pyfolio<0.10,>=0.9->finrl==0.3.6) (0.12.2)\r\n",
      "Collecting empyrical>=0.5.0 (from pyfolio<0.10,>=0.9->finrl==0.3.6)\r\n",
      "  Downloading empyrical-0.5.5.tar.gz (52 kB)\r\n",
      "\u001b[2K     \u001b[90m━━━━━━━━━━━━━━━━━━━━━━━━━━━━━━━━━━━━━━━━\u001b[0m \u001b[32m52.8/52.8 kB\u001b[0m \u001b[31m2.9 MB/s\u001b[0m eta \u001b[36m0:00:00\u001b[0m\r\n",
      "\u001b[?25h  Preparing metadata (setup.py) ... \u001b[?25l-\b \b\\\b \bdone\r\n",
      "\u001b[?25hCollecting cvxpy<2.0.0,>=1.1.19 (from pyportfolioopt<2,>=1->finrl==0.3.6)\r\n",
      "  Downloading cvxpy-1.5.3-cp310-cp310-manylinux_2_17_x86_64.manylinux2014_x86_64.whl.metadata (8.8 kB)\r\n",
      "Requirement already satisfied: click>=7.0 in /opt/conda/lib/python3.10/site-packages (from ray<3,>=2->ray[default,tune]<3,>=2->finrl==0.3.6) (8.1.7)\r\n",
      "Requirement already satisfied: filelock in /opt/conda/lib/python3.10/site-packages (from ray<3,>=2->ray[default,tune]<3,>=2->finrl==0.3.6) (3.15.1)\r\n",
      "Requirement already satisfied: jsonschema in /opt/conda/lib/python3.10/site-packages (from ray<3,>=2->ray[default,tune]<3,>=2->finrl==0.3.6) (4.22.0)\r\n",
      "Requirement already satisfied: protobuf!=3.19.5,>=3.15.3 in /opt/conda/lib/python3.10/site-packages (from ray<3,>=2->ray[default,tune]<3,>=2->finrl==0.3.6) (3.20.3)\r\n",
      "Requirement already satisfied: aiosignal in /opt/conda/lib/python3.10/site-packages (from ray<3,>=2->ray[default,tune]<3,>=2->finrl==0.3.6) (1.3.1)\r\n",
      "Requirement already satisfied: frozenlist in /opt/conda/lib/python3.10/site-packages (from ray<3,>=2->ray[default,tune]<3,>=2->finrl==0.3.6) (1.4.1)\r\n",
      "Collecting aiohttp-cors (from ray[default,tune]<3,>=2->finrl==0.3.6)\r\n",
      "  Downloading aiohttp_cors-0.7.0-py3-none-any.whl.metadata (20 kB)\r\n",
      "Requirement already satisfied: colorful in /opt/conda/lib/python3.10/site-packages (from ray[default,tune]<3,>=2->finrl==0.3.6) (0.5.6)\r\n",
      "Requirement already satisfied: py-spy>=0.2.0 in /opt/conda/lib/python3.10/site-packages (from ray[default,tune]<3,>=2->finrl==0.3.6) (0.3.14)\r\n",
      "Requirement already satisfied: opencensus in /opt/conda/lib/python3.10/site-packages (from ray[default,tune]<3,>=2->finrl==0.3.6) (0.11.4)\r\n",
      "Requirement already satisfied: pydantic!=2.0.*,!=2.1.*,!=2.2.*,!=2.3.*,!=2.4.*,<3 in /opt/conda/lib/python3.10/site-packages (from ray[default,tune]<3,>=2->finrl==0.3.6) (2.8.2)\r\n",
      "Requirement already satisfied: prometheus-client>=0.7.1 in /opt/conda/lib/python3.10/site-packages (from ray[default,tune]<3,>=2->finrl==0.3.6) (0.20.0)\r\n",
      "Requirement already satisfied: smart-open in /opt/conda/lib/python3.10/site-packages (from ray[default,tune]<3,>=2->finrl==0.3.6) (7.0.4)\r\n",
      "Requirement already satisfied: virtualenv!=20.21.1,>=20.0.24 in /opt/conda/lib/python3.10/site-packages (from ray[default,tune]<3,>=2->finrl==0.3.6) (20.21.0)\r\n",
      "Requirement already satisfied: grpcio>=1.42.0 in /opt/conda/lib/python3.10/site-packages (from ray[default,tune]<3,>=2->finrl==0.3.6) (1.62.2)\r\n",
      "Requirement already satisfied: memray in /opt/conda/lib/python3.10/site-packages (from ray[default,tune]<3,>=2->finrl==0.3.6) (1.12.0)\r\n",
      "Requirement already satisfied: tensorboardX>=1.9 in /opt/conda/lib/python3.10/site-packages (from ray[default,tune]<3,>=2->finrl==0.3.6) (2.6.2.2)\r\n",
      "Requirement already satisfied: pyarrow>=6.0.1 in /opt/conda/lib/python3.10/site-packages (from ray[default,tune]<3,>=2->finrl==0.3.6) (16.1.0)\r\n",
      "Requirement already satisfied: fsspec in /opt/conda/lib/python3.10/site-packages (from ray[default,tune]<3,>=2->finrl==0.3.6) (2024.6.1)\r\n",
      "Requirement already satisfied: joblib>=1.1.1 in /opt/conda/lib/python3.10/site-packages (from scikit-learn<2,>=1->finrl==0.3.6) (1.4.2)\r\n",
      "Requirement already satisfied: threadpoolctl>=2.0.0 in /opt/conda/lib/python3.10/site-packages (from scikit-learn<2,>=1->finrl==0.3.6) (3.5.0)\r\n",
      "Requirement already satisfied: gymnasium<0.30,>=0.28.1 in /opt/conda/lib/python3.10/site-packages (from stable-baselines3>=2.0.0a5->stable-baselines3[extra]>=2.0.0a5->finrl==0.3.6) (0.29.0)\r\n",
      "Requirement already satisfied: torch>=1.13 in /opt/conda/lib/python3.10/site-packages (from stable-baselines3>=2.0.0a5->stable-baselines3[extra]>=2.0.0a5->finrl==0.3.6) (2.4.0)\r\n",
      "Requirement already satisfied: cloudpickle in /opt/conda/lib/python3.10/site-packages (from stable-baselines3>=2.0.0a5->stable-baselines3[extra]>=2.0.0a5->finrl==0.3.6) (3.0.0)\r\n",
      "Requirement already satisfied: opencv-python in /opt/conda/lib/python3.10/site-packages (from stable-baselines3[extra]>=2.0.0a5->finrl==0.3.6) (4.10.0.84)\r\n",
      "Collecting pygame (from stable-baselines3[extra]>=2.0.0a5->finrl==0.3.6)\r\n",
      "  Downloading pygame-2.6.0-cp310-cp310-manylinux_2_17_x86_64.manylinux2014_x86_64.whl.metadata (12 kB)\r\n",
      "Requirement already satisfied: tensorboard>=2.9.1 in /opt/conda/lib/python3.10/site-packages (from stable-baselines3[extra]>=2.0.0a5->finrl==0.3.6) (2.16.2)\r\n",
      "Requirement already satisfied: psutil in /opt/conda/lib/python3.10/site-packages (from stable-baselines3[extra]>=2.0.0a5->finrl==0.3.6) (5.9.3)\r\n",
      "Requirement already satisfied: tqdm in /opt/conda/lib/python3.10/site-packages (from stable-baselines3[extra]>=2.0.0a5->finrl==0.3.6) (4.66.4)\r\n",
      "Requirement already satisfied: rich in /opt/conda/lib/python3.10/site-packages (from stable-baselines3[extra]>=2.0.0a5->finrl==0.3.6) (13.7.1)\r\n",
      "Collecting shimmy~=1.1.0 (from shimmy[atari]~=1.1.0; extra == \"extra\"->stable-baselines3[extra]>=2.0.0a5->finrl==0.3.6)\r\n",
      "  Downloading Shimmy-1.1.0-py3-none-any.whl.metadata (3.3 kB)\r\n",
      "Requirement already satisfied: pillow in /opt/conda/lib/python3.10/site-packages (from stable-baselines3[extra]>=2.0.0a5->finrl==0.3.6) (9.5.0)\r\n",
      "Collecting autorom~=0.6.1 (from autorom[accept-rom-license]~=0.6.1; extra == \"extra\"->stable-baselines3[extra]>=2.0.0a5->finrl==0.3.6)\r\n",
      "  Downloading AutoROM-0.6.1-py3-none-any.whl.metadata (2.4 kB)\r\n",
      "Collecting psycopg2-binary<2.10,>=2.9 (from wrds<4,>=3->finrl==0.3.6)\r\n",
      "  Downloading psycopg2_binary-2.9.9-cp310-cp310-manylinux_2_17_x86_64.manylinux2014_x86_64.whl.metadata (4.4 kB)\r\n",
      "Collecting scipy>=0.14.0 (from pyfolio<0.10,>=0.9->finrl==0.3.6)\r\n",
      "  Downloading scipy-1.12.0-cp310-cp310-manylinux_2_17_x86_64.manylinux2014_x86_64.whl.metadata (60 kB)\r\n",
      "\u001b[2K     \u001b[90m━━━━━━━━━━━━━━━━━━━━━━━━━━━━━━━━━━━━━━━━\u001b[0m \u001b[32m60.4/60.4 kB\u001b[0m \u001b[31m3.4 MB/s\u001b[0m eta \u001b[36m0:00:00\u001b[0m\r\n",
      "\u001b[?25hCollecting multitasking>=0.0.7 (from yfinance<0.3,>=0.2->finrl==0.3.6)\r\n",
      "  Downloading multitasking-0.0.11-py3-none-any.whl.metadata (5.5 kB)\r\n",
      "Requirement already satisfied: lxml>=4.9.1 in /opt/conda/lib/python3.10/site-packages (from yfinance<0.3,>=0.2->finrl==0.3.6) (5.3.0)\r\n",
      "Requirement already satisfied: platformdirs>=2.0.0 in /opt/conda/lib/python3.10/site-packages (from yfinance<0.3,>=0.2->finrl==0.3.6) (3.11.0)\r\n",
      "Requirement already satisfied: frozendict>=2.3.4 in /opt/conda/lib/python3.10/site-packages (from yfinance<0.3,>=0.2->finrl==0.3.6) (2.4.4)\r\n",
      "Collecting peewee>=3.16.2 (from yfinance<0.3,>=0.2->finrl==0.3.6)\r\n",
      "  Downloading peewee-3.17.6.tar.gz (3.0 MB)\r\n",
      "\u001b[2K     \u001b[90m━━━━━━━━━━━━━━━━━━━━━━━━━━━━━━━━━━━━━━━━\u001b[0m \u001b[32m3.0/3.0 MB\u001b[0m \u001b[31m69.9 MB/s\u001b[0m eta \u001b[36m0:00:00\u001b[0m\r\n",
      "\u001b[?25h  Installing build dependencies ... \u001b[?25l-\b \b\\\b \b|\b \b/\b \bdone\r\n",
      "\u001b[?25h  Getting requirements to build wheel ... \u001b[?25l-\b \bdone\r\n",
      "\u001b[?25h  Preparing metadata (pyproject.toml) ... \u001b[?25l-\b \bdone\r\n",
      "\u001b[?25hRequirement already satisfied: beautifulsoup4>=4.11.1 in /opt/conda/lib/python3.10/site-packages (from yfinance<0.3,>=0.2->finrl==0.3.6) (4.12.3)\r\n",
      "Requirement already satisfied: html5lib>=1.1 in /opt/conda/lib/python3.10/site-packages (from yfinance<0.3,>=0.2->finrl==0.3.6) (1.1)\r\n",
      "Collecting pycares>=4.0.0 (from aiodns>=1.1.1->ccxt<4,>=3->finrl==0.3.6)\r\n",
      "  Downloading pycares-4.4.0-cp310-cp310-manylinux_2_17_x86_64.manylinux2014_x86_64.whl.metadata (4.1 kB)\r\n",
      "Requirement already satisfied: attrs>=17.3.0 in /opt/conda/lib/python3.10/site-packages (from aiohttp<4,>=3.8.3->alpaca-trade-api<4,>=3->finrl==0.3.6) (23.2.0)\r\n",
      "Requirement already satisfied: multidict<7.0,>=4.5 in /opt/conda/lib/python3.10/site-packages (from aiohttp<4,>=3.8.3->alpaca-trade-api<4,>=3->finrl==0.3.6) (6.0.5)\r\n",
      "Requirement already satisfied: async-timeout<5.0,>=4.0 in /opt/conda/lib/python3.10/site-packages (from aiohttp<4,>=3.8.3->alpaca-trade-api<4,>=3->finrl==0.3.6) (4.0.3)\r\n",
      "Collecting AutoROM.accept-rom-license (from autorom[accept-rom-license]~=0.6.1; extra == \"extra\"->stable-baselines3[extra]>=2.0.0a5->finrl==0.3.6)\r\n",
      "  Downloading AutoROM.accept-rom-license-0.6.1.tar.gz (434 kB)\r\n",
      "\u001b[2K     \u001b[90m━━━━━━━━━━━━━━━━━━━━━━━━━━━━━━━━━━━━━━\u001b[0m \u001b[32m434.7/434.7 kB\u001b[0m \u001b[31m21.3 MB/s\u001b[0m eta \u001b[36m0:00:00\u001b[0m\r\n",
      "\u001b[?25h  Installing build dependencies ... \u001b[?25l-\b \b\\\b \b|\b \b/\b \b-\b \b\\\b \b|\b \b/\b \b-\b \b\\\b \b|\b \bdone\r\n",
      "\u001b[?25h  Getting requirements to build wheel ... \u001b[?25l-\b \bdone\r\n",
      "\u001b[?25h  Preparing metadata (pyproject.toml) ... \u001b[?25l-\b \bdone\r\n",
      "\u001b[?25hRequirement already satisfied: soupsieve>1.2 in /opt/conda/lib/python3.10/site-packages (from beautifulsoup4>=4.11.1->yfinance<0.3,>=0.2->finrl==0.3.6) (2.5)\r\n",
      "Requirement already satisfied: cffi>=1.12 in /opt/conda/lib/python3.10/site-packages (from cryptography>=2.6.1->ccxt<4,>=3->finrl==0.3.6) (1.16.0)\r\n",
      "Collecting osqp>=0.6.2 (from cvxpy<2.0.0,>=1.1.19->pyportfolioopt<2,>=1->finrl==0.3.6)\r\n",
      "  Downloading osqp-0.6.7.post1-cp310-cp310-manylinux_2_5_x86_64.manylinux1_x86_64.manylinux_2_17_x86_64.manylinux2014_x86_64.whl.metadata (1.9 kB)\r\n",
      "Requirement already satisfied: ecos>=2 in /opt/conda/lib/python3.10/site-packages (from cvxpy<2.0.0,>=1.1.19->pyportfolioopt<2,>=1->finrl==0.3.6) (2.0.14)\r\n",
      "Collecting clarabel>=0.5.0 (from cvxpy<2.0.0,>=1.1.19->pyportfolioopt<2,>=1->finrl==0.3.6)\r\n",
      "  Downloading clarabel-0.9.0-cp37-abi3-manylinux_2_17_x86_64.manylinux2014_x86_64.whl.metadata (4.8 kB)\r\n",
      "Collecting scs>=3.2.4.post1 (from cvxpy<2.0.0,>=1.1.19->pyportfolioopt<2,>=1->finrl==0.3.6)\r\n",
      "  Downloading scs-3.2.7-cp310-cp310-manylinux_2_17_x86_64.manylinux2014_x86_64.whl.metadata (2.1 kB)\r\n",
      "Requirement already satisfied: pandas-datareader>=0.2 in /opt/conda/lib/python3.10/site-packages (from empyrical>=0.5.0->pyfolio<0.10,>=0.9->finrl==0.3.6) (0.10.0)\r\n",
      "Requirement already satisfied: typing-extensions>=4.3.0 in /opt/conda/lib/python3.10/site-packages (from gymnasium<0.30,>=0.28.1->stable-baselines3>=2.0.0a5->stable-baselines3[extra]>=2.0.0a5->finrl==0.3.6) (4.12.2)\r\n",
      "Requirement already satisfied: farama-notifications>=0.0.1 in /opt/conda/lib/python3.10/site-packages (from gymnasium<0.30,>=0.28.1->stable-baselines3>=2.0.0a5->stable-baselines3[extra]>=2.0.0a5->finrl==0.3.6) (0.0.4)\r\n",
      "Requirement already satisfied: webencodings in /opt/conda/lib/python3.10/site-packages (from html5lib>=1.1->yfinance<0.3,>=0.2->finrl==0.3.6) (0.5.1)\r\n",
      "Requirement already satisfied: decorator in /opt/conda/lib/python3.10/site-packages (from ipython>=3.2.3->pyfolio<0.10,>=0.9->finrl==0.3.6) (5.1.1)\r\n",
      "Requirement already satisfied: jedi>=0.16 in /opt/conda/lib/python3.10/site-packages (from ipython>=3.2.3->pyfolio<0.10,>=0.9->finrl==0.3.6) (0.19.1)\r\n",
      "Requirement already satisfied: matplotlib-inline in /opt/conda/lib/python3.10/site-packages (from ipython>=3.2.3->pyfolio<0.10,>=0.9->finrl==0.3.6) (0.1.7)\r\n",
      "Requirement already satisfied: prompt-toolkit<3.1.0,>=3.0.41 in /opt/conda/lib/python3.10/site-packages (from ipython>=3.2.3->pyfolio<0.10,>=0.9->finrl==0.3.6) (3.0.47)\r\n",
      "Requirement already satisfied: pygments>=2.4.0 in /opt/conda/lib/python3.10/site-packages (from ipython>=3.2.3->pyfolio<0.10,>=0.9->finrl==0.3.6) (2.18.0)\r\n",
      "Requirement already satisfied: stack-data in /opt/conda/lib/python3.10/site-packages (from ipython>=3.2.3->pyfolio<0.10,>=0.9->finrl==0.3.6) (0.6.2)\r\n",
      "Requirement already satisfied: traitlets>=5 in /opt/conda/lib/python3.10/site-packages (from ipython>=3.2.3->pyfolio<0.10,>=0.9->finrl==0.3.6) (5.14.3)\r\n",
      "Requirement already satisfied: exceptiongroup in /opt/conda/lib/python3.10/site-packages (from ipython>=3.2.3->pyfolio<0.10,>=0.9->finrl==0.3.6) (1.2.0)\r\n",
      "Requirement already satisfied: pexpect>4.3 in /opt/conda/lib/python3.10/site-packages (from ipython>=3.2.3->pyfolio<0.10,>=0.9->finrl==0.3.6) (4.9.0)\r\n",
      "Requirement already satisfied: contourpy>=1.0.1 in /opt/conda/lib/python3.10/site-packages (from matplotlib>=1.4.0->pyfolio<0.10,>=0.9->finrl==0.3.6) (1.2.1)\r\n",
      "Requirement already satisfied: cycler>=0.10 in /opt/conda/lib/python3.10/site-packages (from matplotlib>=1.4.0->pyfolio<0.10,>=0.9->finrl==0.3.6) (0.12.1)\r\n",
      "Requirement already satisfied: fonttools>=4.22.0 in /opt/conda/lib/python3.10/site-packages (from matplotlib>=1.4.0->pyfolio<0.10,>=0.9->finrl==0.3.6) (4.53.0)\r\n",
      "Requirement already satisfied: kiwisolver>=1.0.1 in /opt/conda/lib/python3.10/site-packages (from matplotlib>=1.4.0->pyfolio<0.10,>=0.9->finrl==0.3.6) (1.4.5)\r\n",
      "Requirement already satisfied: pyparsing>=2.3.1 in /opt/conda/lib/python3.10/site-packages (from matplotlib>=1.4.0->pyfolio<0.10,>=0.9->finrl==0.3.6) (3.1.2)\r\n",
      "Requirement already satisfied: python-dateutil>=2.7 in /opt/conda/lib/python3.10/site-packages (from matplotlib>=1.4.0->pyfolio<0.10,>=0.9->finrl==0.3.6) (2.9.0.post0)\r\n",
      "Requirement already satisfied: annotated-types>=0.4.0 in /opt/conda/lib/python3.10/site-packages (from pydantic!=2.0.*,!=2.1.*,!=2.2.*,!=2.3.*,!=2.4.*,<3->ray[default,tune]<3,>=2->finrl==0.3.6) (0.7.0)\r\n",
      "Requirement already satisfied: pydantic-core==2.20.1 in /opt/conda/lib/python3.10/site-packages (from pydantic!=2.0.*,!=2.1.*,!=2.2.*,!=2.3.*,!=2.4.*,<3->ray[default,tune]<3,>=2->finrl==0.3.6) (2.20.1)\r\n",
      "Requirement already satisfied: charset-normalizer<4,>=2 in /opt/conda/lib/python3.10/site-packages (from requests<3,>2->alpaca-trade-api<4,>=3->finrl==0.3.6) (3.3.2)\r\n",
      "Requirement already satisfied: idna<4,>=2.5 in /opt/conda/lib/python3.10/site-packages (from requests<3,>2->alpaca-trade-api<4,>=3->finrl==0.3.6) (3.7)\r\n",
      "Collecting ale-py~=0.8.1 (from shimmy[atari]~=1.1.0; extra == \"extra\"->stable-baselines3[extra]>=2.0.0a5->finrl==0.3.6)\r\n",
      "  Downloading ale_py-0.8.1-cp310-cp310-manylinux_2_17_x86_64.manylinux2014_x86_64.whl.metadata (8.1 kB)\r\n",
      "Requirement already satisfied: greenlet!=0.4.17 in /opt/conda/lib/python3.10/site-packages (from SQLAlchemy>=1.2.8->jqdatasdk<2,>=1->finrl==0.3.6) (3.0.3)\r\n",
      "Requirement already satisfied: absl-py>=0.4 in /opt/conda/lib/python3.10/site-packages (from tensorboard>=2.9.1->stable-baselines3[extra]>=2.0.0a5->finrl==0.3.6) (1.4.0)\r\n",
      "Requirement already satisfied: markdown>=2.6.8 in /opt/conda/lib/python3.10/site-packages (from tensorboard>=2.9.1->stable-baselines3[extra]>=2.0.0a5->finrl==0.3.6) (3.6)\r\n",
      "Requirement already satisfied: tensorboard-data-server<0.8.0,>=0.7.0 in /opt/conda/lib/python3.10/site-packages (from tensorboard>=2.9.1->stable-baselines3[extra]>=2.0.0a5->finrl==0.3.6) (0.7.2)\r\n",
      "Requirement already satisfied: werkzeug>=1.0.1 in /opt/conda/lib/python3.10/site-packages (from tensorboard>=2.9.1->stable-baselines3[extra]>=2.0.0a5->finrl==0.3.6) (3.0.3)\r\n",
      "Requirement already satisfied: Cython>=3.0.10 in /opt/conda/lib/python3.10/site-packages (from thriftpy2!=0.5.1,>=0.3.9->jqdatasdk<2,>=1->finrl==0.3.6) (3.0.10)\r\n",
      "Collecting ply<4.0,>=3.4 (from thriftpy2!=0.5.1,>=0.3.9->jqdatasdk<2,>=1->finrl==0.3.6)\r\n",
      "  Downloading ply-3.11-py2.py3-none-any.whl.metadata (844 bytes)\r\n",
      "Requirement already satisfied: sympy in /opt/conda/lib/python3.10/site-packages (from torch>=1.13->stable-baselines3>=2.0.0a5->stable-baselines3[extra]>=2.0.0a5->finrl==0.3.6) (1.13.2)\r\n",
      "Requirement already satisfied: networkx in /opt/conda/lib/python3.10/site-packages (from torch>=1.13->stable-baselines3>=2.0.0a5->stable-baselines3[extra]>=2.0.0a5->finrl==0.3.6) (3.3)\r\n",
      "Requirement already satisfied: jinja2 in /opt/conda/lib/python3.10/site-packages (from torch>=1.13->stable-baselines3>=2.0.0a5->stable-baselines3[extra]>=2.0.0a5->finrl==0.3.6) (3.1.4)\r\n",
      "Requirement already satisfied: distlib<1,>=0.3.6 in /opt/conda/lib/python3.10/site-packages (from virtualenv!=20.21.1,>=20.0.24->ray[default,tune]<3,>=2->finrl==0.3.6) (0.3.8)\r\n",
      "Requirement already satisfied: jsonschema-specifications>=2023.03.6 in /opt/conda/lib/python3.10/site-packages (from jsonschema->ray<3,>=2->ray[default,tune]<3,>=2->finrl==0.3.6) (2023.12.1)\r\n",
      "Requirement already satisfied: referencing>=0.28.4 in /opt/conda/lib/python3.10/site-packages (from jsonschema->ray<3,>=2->ray[default,tune]<3,>=2->finrl==0.3.6) (0.35.1)\r\n",
      "Requirement already satisfied: rpds-py>=0.7.1 in /opt/conda/lib/python3.10/site-packages (from jsonschema->ray<3,>=2->ray[default,tune]<3,>=2->finrl==0.3.6) (0.18.1)\r\n",
      "Requirement already satisfied: textual>=0.41.0 in /opt/conda/lib/python3.10/site-packages (from memray->ray[default,tune]<3,>=2->finrl==0.3.6) (0.67.1)\r\n",
      "Requirement already satisfied: markdown-it-py>=2.2.0 in /opt/conda/lib/python3.10/site-packages (from rich->stable-baselines3[extra]>=2.0.0a5->finrl==0.3.6) (3.0.0)\r\n",
      "Requirement already satisfied: opencensus-context>=0.1.3 in /opt/conda/lib/python3.10/site-packages (from opencensus->ray[default,tune]<3,>=2->finrl==0.3.6) (0.1.3)\r\n",
      "Requirement already satisfied: google-api-core<3.0.0,>=1.0.0 in /opt/conda/lib/python3.10/site-packages (from opencensus->ray[default,tune]<3,>=2->finrl==0.3.6) (2.11.1)\r\n",
      "Requirement already satisfied: wrapt in /opt/conda/lib/python3.10/site-packages (from smart-open->ray[default,tune]<3,>=2->finrl==0.3.6) (1.16.0)\r\n",
      "Requirement already satisfied: importlib-resources in /opt/conda/lib/python3.10/site-packages (from ale-py~=0.8.1->shimmy[atari]~=1.1.0; extra == \"extra\"->stable-baselines3[extra]>=2.0.0a5->finrl==0.3.6) (6.4.0)\r\n",
      "Requirement already satisfied: pycparser in /opt/conda/lib/python3.10/site-packages (from cffi>=1.12->cryptography>=2.6.1->ccxt<4,>=3->finrl==0.3.6) (2.22)\r\n",
      "Requirement already satisfied: googleapis-common-protos<2.0.dev0,>=1.56.2 in /opt/conda/lib/python3.10/site-packages (from google-api-core<3.0.0,>=1.0.0->opencensus->ray[default,tune]<3,>=2->finrl==0.3.6) (1.63.1)\r\n",
      "Requirement already satisfied: google-auth<3.0.dev0,>=2.14.1 in /opt/conda/lib/python3.10/site-packages (from google-api-core<3.0.0,>=1.0.0->opencensus->ray[default,tune]<3,>=2->finrl==0.3.6) (2.30.0)\r\n",
      "Requirement already satisfied: parso<0.9.0,>=0.8.3 in /opt/conda/lib/python3.10/site-packages (from jedi>=0.16->ipython>=3.2.3->pyfolio<0.10,>=0.9->finrl==0.3.6) (0.8.4)\r\n",
      "Requirement already satisfied: MarkupSafe>=2.0 in /opt/conda/lib/python3.10/site-packages (from jinja2->torch>=1.13->stable-baselines3>=2.0.0a5->stable-baselines3[extra]>=2.0.0a5->finrl==0.3.6) (2.1.5)\r\n",
      "Requirement already satisfied: mdurl~=0.1 in /opt/conda/lib/python3.10/site-packages (from markdown-it-py>=2.2.0->rich->stable-baselines3[extra]>=2.0.0a5->finrl==0.3.6) (0.1.2)\r\n",
      "Collecting qdldl (from osqp>=0.6.2->cvxpy<2.0.0,>=1.1.19->pyportfolioopt<2,>=1->finrl==0.3.6)\r\n",
      "  Downloading qdldl-0.1.7.post4-cp310-cp310-manylinux_2_17_x86_64.manylinux2014_x86_64.whl.metadata (1.7 kB)\r\n",
      "Requirement already satisfied: ptyprocess>=0.5 in /opt/conda/lib/python3.10/site-packages (from pexpect>4.3->ipython>=3.2.3->pyfolio<0.10,>=0.9->finrl==0.3.6) (0.7.0)\r\n",
      "Requirement already satisfied: wcwidth in /opt/conda/lib/python3.10/site-packages (from prompt-toolkit<3.1.0,>=3.0.41->ipython>=3.2.3->pyfolio<0.10,>=0.9->finrl==0.3.6) (0.2.13)\r\n",
      "Requirement already satisfied: executing>=1.2.0 in /opt/conda/lib/python3.10/site-packages (from stack-data->ipython>=3.2.3->pyfolio<0.10,>=0.9->finrl==0.3.6) (2.0.1)\r\n",
      "Requirement already satisfied: asttokens>=2.1.0 in /opt/conda/lib/python3.10/site-packages (from stack-data->ipython>=3.2.3->pyfolio<0.10,>=0.9->finrl==0.3.6) (2.4.1)\r\n",
      "Requirement already satisfied: pure-eval in /opt/conda/lib/python3.10/site-packages (from stack-data->ipython>=3.2.3->pyfolio<0.10,>=0.9->finrl==0.3.6) (0.2.2)\r\n",
      "Requirement already satisfied: mpmath<1.4,>=1.1.0 in /opt/conda/lib/python3.10/site-packages (from sympy->torch>=1.13->stable-baselines3>=2.0.0a5->stable-baselines3[extra]>=2.0.0a5->finrl==0.3.6) (1.3.0)\r\n",
      "Requirement already satisfied: cachetools<6.0,>=2.0.0 in /opt/conda/lib/python3.10/site-packages (from google-auth<3.0.dev0,>=2.14.1->google-api-core<3.0.0,>=1.0.0->opencensus->ray[default,tune]<3,>=2->finrl==0.3.6) (4.2.4)\r\n",
      "Requirement already satisfied: pyasn1-modules>=0.2.1 in /opt/conda/lib/python3.10/site-packages (from google-auth<3.0.dev0,>=2.14.1->google-api-core<3.0.0,>=1.0.0->opencensus->ray[default,tune]<3,>=2->finrl==0.3.6) (0.4.0)\r\n",
      "Requirement already satisfied: rsa<5,>=3.1.4 in /opt/conda/lib/python3.10/site-packages (from google-auth<3.0.dev0,>=2.14.1->google-api-core<3.0.0,>=1.0.0->opencensus->ray[default,tune]<3,>=2->finrl==0.3.6) (4.9)\r\n",
      "Requirement already satisfied: mdit-py-plugins in /opt/conda/lib/python3.10/site-packages (from markdown-it-py[linkify,plugins]>=2.1.0->textual>=0.41.0->memray->ray[default,tune]<3,>=2->finrl==0.3.6) (0.4.1)\r\n",
      "Requirement already satisfied: linkify-it-py<3,>=1 in /opt/conda/lib/python3.10/site-packages (from markdown-it-py[linkify,plugins]>=2.1.0->textual>=0.41.0->memray->ray[default,tune]<3,>=2->finrl==0.3.6) (2.0.3)\r\n",
      "Requirement already satisfied: uc-micro-py in /opt/conda/lib/python3.10/site-packages (from linkify-it-py<3,>=1->markdown-it-py[linkify,plugins]>=2.1.0->textual>=0.41.0->memray->ray[default,tune]<3,>=2->finrl==0.3.6) (1.0.3)\r\n",
      "Requirement already satisfied: pyasn1<0.7.0,>=0.4.6 in /opt/conda/lib/python3.10/site-packages (from pyasn1-modules>=0.2.1->google-auth<3.0.dev0,>=2.14.1->google-api-core<3.0.0,>=1.0.0->opencensus->ray[default,tune]<3,>=2->finrl==0.3.6) (0.6.0)\r\n",
      "Downloading alpaca_trade_api-3.2.0-py3-none-any.whl (34 kB)\r\n",
      "Downloading msgpack-1.0.3-cp310-cp310-manylinux_2_17_x86_64.manylinux2014_x86_64.whl (323 kB)\r\n",
      "\u001b[2K   \u001b[90m━━━━━━━━━━━━━━━━━━━━━━━━━━━━━━━━━━━━━━━━\u001b[0m \u001b[32m323.7/323.7 kB\u001b[0m \u001b[31m18.9 MB/s\u001b[0m eta \u001b[36m0:00:00\u001b[0m\r\n",
      "\u001b[?25hDownloading PyYAML-6.0.1-cp310-cp310-manylinux_2_17_x86_64.manylinux2014_x86_64.whl (705 kB)\r\n",
      "\u001b[2K   \u001b[90m━━━━━━━━━━━━━━━━━━━━━━━━━━━━━━━━━━━━━━━━\u001b[0m \u001b[32m705.5/705.5 kB\u001b[0m \u001b[31m32.4 MB/s\u001b[0m eta \u001b[36m0:00:00\u001b[0m\r\n",
      "\u001b[?25hDownloading ccxt-3.1.60-py2.py3-none-any.whl (4.0 MB)\r\n",
      "\u001b[2K   \u001b[90m━━━━━━━━━━━━━━━━━━━━━━━━━━━━━━━━━━━━━━━━\u001b[0m \u001b[32m4.0/4.0 MB\u001b[0m \u001b[31m55.9 MB/s\u001b[0m eta \u001b[36m0:00:00\u001b[0m\r\n",
      "\u001b[?25hDownloading exchange_calendars-4.5.6-py3-none-any.whl (196 kB)\r\n",
      "\u001b[2K   \u001b[90m━━━━━━━━━━━━━━━━━━━━━━━━━━━━━━━━━━━━━━━━\u001b[0m \u001b[32m196.2/196.2 kB\u001b[0m \u001b[31m13.4 MB/s\u001b[0m eta \u001b[36m0:00:00\u001b[0m\r\n",
      "\u001b[?25hDownloading jqdatasdk-1.9.6-py3-none-any.whl (77 kB)\r\n",
      "\u001b[2K   \u001b[90m━━━━━━━━━━━━━━━━━━━━━━━━━━━━━━━━━━━━━━━━\u001b[0m \u001b[32m77.3/77.3 kB\u001b[0m \u001b[31m4.4 MB/s\u001b[0m eta \u001b[36m0:00:00\u001b[0m\r\n",
      "\u001b[?25hDownloading pyportfolioopt-1.5.5-py3-none-any.whl (61 kB)\r\n",
      "\u001b[2K   \u001b[90m━━━━━━━━━━━━━━━━━━━━━━━━━━━━━━━━━━━━━━━━\u001b[0m \u001b[32m61.9/61.9 kB\u001b[0m \u001b[31m3.7 MB/s\u001b[0m eta \u001b[36m0:00:00\u001b[0m\r\n",
      "\u001b[?25hDownloading stockstats-0.5.4-py2.py3-none-any.whl (21 kB)\r\n",
      "Downloading wrds-3.2.0-py3-none-any.whl (13 kB)\r\n",
      "Downloading yfinance-0.2.43-py2.py3-none-any.whl (84 kB)\r\n",
      "\u001b[2K   \u001b[90m━━━━━━━━━━━━━━━━━━━━━━━━━━━━━━━━━━━━━━━━\u001b[0m \u001b[32m84.6/84.6 kB\u001b[0m \u001b[31m5.3 MB/s\u001b[0m eta \u001b[36m0:00:00\u001b[0m\r\n",
      "\u001b[?25hDownloading aiodns-3.2.0-py3-none-any.whl (5.7 kB)\r\n",
      "Downloading AutoROM-0.6.1-py3-none-any.whl (9.4 kB)\r\n",
      "Downloading cvxpy-1.5.3-cp310-cp310-manylinux_2_17_x86_64.manylinux2014_x86_64.whl (1.2 MB)\r\n",
      "\u001b[2K   \u001b[90m━━━━━━━━━━━━━━━━━━━━━━━━━━━━━━━━━━━━━━━━\u001b[0m \u001b[32m1.2/1.2 MB\u001b[0m \u001b[31m47.2 MB/s\u001b[0m eta \u001b[36m0:00:00\u001b[0m\r\n",
      "\u001b[?25hDownloading multitasking-0.0.11-py3-none-any.whl (8.5 kB)\r\n",
      "Downloading psycopg2_binary-2.9.9-cp310-cp310-manylinux_2_17_x86_64.manylinux2014_x86_64.whl (3.0 MB)\r\n",
      "\u001b[2K   \u001b[90m━━━━━━━━━━━━━━━━━━━━━━━━━━━━━━━━━━━━━━━━\u001b[0m \u001b[32m3.0/3.0 MB\u001b[0m \u001b[31m75.2 MB/s\u001b[0m eta \u001b[36m0:00:00\u001b[0m\r\n",
      "\u001b[?25hDownloading PyMySQL-1.1.1-py3-none-any.whl (44 kB)\r\n",
      "\u001b[2K   \u001b[90m━━━━━━━━━━━━━━━━━━━━━━━━━━━━━━━━━━━━━━━━\u001b[0m \u001b[32m45.0/45.0 kB\u001b[0m \u001b[31m2.7 MB/s\u001b[0m eta \u001b[36m0:00:00\u001b[0m\r\n",
      "\u001b[?25hDownloading scipy-1.12.0-cp310-cp310-manylinux_2_17_x86_64.manylinux2014_x86_64.whl (38.4 MB)\r\n",
      "\u001b[2K   \u001b[90m━━━━━━━━━━━━━━━━━━━━━━━━━━━━━━━━━━━━━━━━\u001b[0m \u001b[32m38.4/38.4 MB\u001b[0m \u001b[31m43.1 MB/s\u001b[0m eta \u001b[36m0:00:00\u001b[0m\r\n",
      "\u001b[?25hDownloading Shimmy-1.1.0-py3-none-any.whl (37 kB)\r\n",
      "Downloading websockets-10.4-cp310-cp310-manylinux_2_5_x86_64.manylinux1_x86_64.manylinux_2_17_x86_64.manylinux2014_x86_64.whl (106 kB)\r\n",
      "\u001b[2K   \u001b[90m━━━━━━━━━━━━━━━━━━━━━━━━━━━━━━━━━━━━━━━━\u001b[0m \u001b[32m106.8/106.8 kB\u001b[0m \u001b[31m6.2 MB/s\u001b[0m eta \u001b[36m0:00:00\u001b[0m\r\n",
      "\u001b[?25hDownloading aiohttp_cors-0.7.0-py3-none-any.whl (27 kB)\r\n",
      "Downloading pygame-2.6.0-cp310-cp310-manylinux_2_17_x86_64.manylinux2014_x86_64.whl (14.0 MB)\r\n",
      "\u001b[2K   \u001b[90m━━━━━━━━━━━━━━━━━━━━━━━━━━━━━━━━━━━━━━━━\u001b[0m \u001b[32m14.0/14.0 MB\u001b[0m \u001b[31m84.6 MB/s\u001b[0m eta \u001b[36m0:00:00\u001b[0m\r\n",
      "\u001b[?25hDownloading pyluach-2.2.0-py3-none-any.whl (25 kB)\r\n",
      "Downloading ale_py-0.8.1-cp310-cp310-manylinux_2_17_x86_64.manylinux2014_x86_64.whl (1.7 MB)\r\n",
      "\u001b[2K   \u001b[90m━━━━━━━━━━━━━━━━━━━━━━━━━━━━━━━━━━━━━━━━\u001b[0m \u001b[32m1.7/1.7 MB\u001b[0m \u001b[31m57.3 MB/s\u001b[0m eta \u001b[36m0:00:00\u001b[0m\r\n",
      "\u001b[?25hDownloading clarabel-0.9.0-cp37-abi3-manylinux_2_17_x86_64.manylinux2014_x86_64.whl (1.8 MB)\r\n",
      "\u001b[2K   \u001b[90m━━━━━━━━━━━━━━━━━━━━━━━━━━━━━━━━━━━━━━━━\u001b[0m \u001b[32m1.8/1.8 MB\u001b[0m \u001b[31m58.8 MB/s\u001b[0m eta \u001b[36m0:00:00\u001b[0m\r\n",
      "\u001b[?25hDownloading osqp-0.6.7.post1-cp310-cp310-manylinux_2_5_x86_64.manylinux1_x86_64.manylinux_2_17_x86_64.manylinux2014_x86_64.whl (297 kB)\r\n",
      "\u001b[2K   \u001b[90m━━━━━━━━━━━━━━━━━━━━━━━━━━━━━━━━━━━━━━━━\u001b[0m \u001b[32m297.6/297.6 kB\u001b[0m \u001b[31m17.3 MB/s\u001b[0m eta \u001b[36m0:00:00\u001b[0m\r\n",
      "\u001b[?25hDownloading ply-3.11-py2.py3-none-any.whl (49 kB)\r\n",
      "\u001b[2K   \u001b[90m━━━━━━━━━━━━━━━━━━━━━━━━━━━━━━━━━━━━━━━━\u001b[0m \u001b[32m49.6/49.6 kB\u001b[0m \u001b[31m3.0 MB/s\u001b[0m eta \u001b[36m0:00:00\u001b[0m\r\n",
      "\u001b[?25hDownloading pycares-4.4.0-cp310-cp310-manylinux_2_17_x86_64.manylinux2014_x86_64.whl (288 kB)\r\n",
      "\u001b[2K   \u001b[90m━━━━━━━━━━━━━━━━━━━━━━━━━━━━━━━━━━━━━━━━\u001b[0m \u001b[32m288.7/288.7 kB\u001b[0m \u001b[31m17.2 MB/s\u001b[0m eta \u001b[36m0:00:00\u001b[0m\r\n",
      "\u001b[?25hDownloading scs-3.2.7-cp310-cp310-manylinux_2_17_x86_64.manylinux2014_x86_64.whl (10.4 MB)\r\n",
      "\u001b[2K   \u001b[90m━━━━━━━━━━━━━━━━━━━━━━━━━━━━━━━━━━━━━━━━\u001b[0m \u001b[32m10.4/10.4 MB\u001b[0m \u001b[31m95.6 MB/s\u001b[0m eta \u001b[36m0:00:00\u001b[0m\r\n",
      "\u001b[?25hDownloading qdldl-0.1.7.post4-cp310-cp310-manylinux_2_17_x86_64.manylinux2014_x86_64.whl (1.1 MB)\r\n",
      "\u001b[2K   \u001b[90m━━━━━━━━━━━━━━━━━━━━━━━━━━━━━━━━━━━━━━━━\u001b[0m \u001b[32m1.1/1.1 MB\u001b[0m \u001b[31m48.0 MB/s\u001b[0m eta \u001b[36m0:00:00\u001b[0m\r\n",
      "\u001b[?25hBuilding wheels for collected packages: finrl, pyfolio, elegantrl, empyrical, peewee, thriftpy2, AutoROM.accept-rom-license\r\n",
      "  Building wheel for finrl (pyproject.toml) ... \u001b[?25ldone\r\n",
      "\u001b[?25h  Created wheel for finrl: filename=finrl-0.3.6-py3-none-any.whl size=4691725 sha256=88ee24b1cf3c4161cf23e2d723467b751844de38f287d45bd45f1a6559fe7b0c\r\n",
      "  Stored in directory: /tmp/pip-ephem-wheel-cache-zqly67qe/wheels/72/3b/1a/0fc805a8cc65ecd5bfe4f74a3c586b6075678b8ba53fd8f749\r\n",
      "  Building wheel for pyfolio (setup.py) ... \u001b[?25l-\b \b\\\b \b|\b \bdone\r\n",
      "\u001b[?25h  Created wheel for pyfolio: filename=pyfolio-0.9.2-py3-none-any.whl size=88652 sha256=782c834406d923ad4f5109eb93e05f30adb5a1e54b4078330178d59bd1e909e7\r\n",
      "  Stored in directory: /root/.cache/pip/wheels/71/38/bc/e53700cfd8b0ad6b539d2fbaaf060ed8a299e7622a5b86ef42\r\n",
      "  Building wheel for elegantrl (setup.py) ... \u001b[?25l-\b \bdone\r\n",
      "\u001b[?25h  Created wheel for elegantrl: filename=ElegantRL-0.3.10-py3-none-any.whl size=380158 sha256=d7f3bf3c7651e95beaeb397694ec5f18370f1065139e96dd9dcf3c36692941f2\r\n",
      "  Stored in directory: /tmp/pip-ephem-wheel-cache-zqly67qe/wheels/c0/51/a5/b05f165548221bc570f7223babd33e2992fa873cdcebe2d229\r\n",
      "  Building wheel for empyrical (setup.py) ... \u001b[?25l-\b \b\\\b \b|\b \bdone\r\n",
      "\u001b[?25h  Created wheel for empyrical: filename=empyrical-0.5.5-py3-none-any.whl size=39756 sha256=c3ad5ac8d36ef1c4a19d93bd4039e7171c80f303fb70a8ed1c3bec71439df3f8\r\n",
      "  Stored in directory: /root/.cache/pip/wheels/0e/2e/f2/d6d2d9a1eb8fbbd9949bb5d4c00f753e3b74e5bd7ed10b1d36\r\n",
      "  Building wheel for peewee (pyproject.toml) ... \u001b[?25l-\b \b\\\b \b|\b \b/\b \bdone\r\n",
      "\u001b[?25h  Created wheel for peewee: filename=peewee-3.17.6-cp310-cp310-linux_x86_64.whl size=275728 sha256=5995d7e248be1058831800094e4c8f5ec2eff20116dec9ccebc35cd7a40f4602\r\n",
      "  Stored in directory: /root/.cache/pip/wheels/4b/b9/b0/83d6e258e8f963f5ff111a2cd8c483ca59372a86e6a2535212\r\n",
      "  Building wheel for thriftpy2 (pyproject.toml) ... \u001b[?25l-\b \b\\\b \b|\b \b/\b \b-\b \b\\\b \b|\b \b/\b \b-\b \b\\\b \bdone\r\n",
      "\u001b[?25h  Created wheel for thriftpy2: filename=thriftpy2-0.5.2-cp310-cp310-linux_x86_64.whl size=841756 sha256=b7fe4eda38cf7145a9fcf9185ce9b3ea48c2352c1064d088cd4b6bef2783c6b8\r\n",
      "  Stored in directory: /root/.cache/pip/wheels/90/28/5f/279788e86e2eaccb3edc73bde9c815a9527602739a56344ff7\r\n",
      "  Building wheel for AutoROM.accept-rom-license (pyproject.toml) ... \u001b[?25l-\b \b\\\b \bdone\r\n",
      "\u001b[?25h  Created wheel for AutoROM.accept-rom-license: filename=AutoROM.accept_rom_license-0.6.1-py3-none-any.whl size=446661 sha256=9e7fd8a390f75da9f5396c035980d25d0bf821685faa7cbd3071777796fc7b01\r\n",
      "  Stored in directory: /root/.cache/pip/wheels/6b/1b/ef/a43ff1a2f1736d5711faa1ba4c1f61be1131b8899e6a057811\r\n",
      "Successfully built finrl pyfolio elegantrl empyrical peewee thriftpy2 AutoROM.accept-rom-license\r\n",
      "Installing collected packages: ply, peewee, multitasking, msgpack, websockets, thriftpy2, scipy, PyYAML, pymysql, pyluach, pygame, psycopg2-binary, ale-py, shimmy, scs, qdldl, pycares, clarabel, AutoROM.accept-rom-license, autorom, yfinance, wrds, stockstats, osqp, jqdatasdk, exchange-calendars, elegantrl, alpaca-trade-api, aiohttp-cors, aiodns, empyrical, cvxpy, ccxt, pyportfolioopt, pyfolio, finrl\r\n",
      "  Attempting uninstall: msgpack\r\n",
      "    Found existing installation: msgpack 1.0.8\r\n",
      "    Uninstalling msgpack-1.0.8:\r\n",
      "      Successfully uninstalled msgpack-1.0.8\r\n",
      "  Attempting uninstall: websockets\r\n",
      "    Found existing installation: websockets 12.0\r\n",
      "    Uninstalling websockets-12.0:\r\n",
      "      Successfully uninstalled websockets-12.0\r\n",
      "  Attempting uninstall: scipy\r\n",
      "    Found existing installation: scipy 1.14.0\r\n",
      "    Uninstalling scipy-1.14.0:\r\n",
      "      Successfully uninstalled scipy-1.14.0\r\n",
      "  Attempting uninstall: PyYAML\r\n",
      "    Found existing installation: PyYAML 6.0.2\r\n",
      "    Uninstalling PyYAML-6.0.2:\r\n",
      "      Successfully uninstalled PyYAML-6.0.2\r\n",
      "  Attempting uninstall: shimmy\r\n",
      "    Found existing installation: Shimmy 1.3.0\r\n",
      "    Uninstalling Shimmy-1.3.0:\r\n",
      "      Successfully uninstalled Shimmy-1.3.0\r\n",
      "\u001b[31mERROR: pip's dependency resolver does not currently take into account all the packages that are installed. This behaviour is the source of the following dependency conflicts.\r\n",
      "cuml 24.8.0 requires cupy-cuda11x>=12.0.0, which is not installed.\r\n",
      "distributed 2024.7.1 requires dask==2024.7.1, but you have dask 2024.8.1 which is incompatible.\r\n",
      "jupyterlab 4.2.4 requires jupyter-lsp>=2.0.0, but you have jupyter-lsp 1.5.1 which is incompatible.\r\n",
      "jupyterlab-lsp 5.1.0 requires jupyter-lsp>=2.0.0, but you have jupyter-lsp 1.5.1 which is incompatible.\r\n",
      "kaggle-environments 1.14.15 requires shimmy>=1.2.1, but you have shimmy 1.1.0 which is incompatible.\r\n",
      "kfp 2.5.0 requires google-cloud-storage<3,>=2.2.1, but you have google-cloud-storage 1.44.0 which is incompatible.\r\n",
      "libpysal 4.9.2 requires packaging>=22, but you have packaging 21.3 which is incompatible.\r\n",
      "libpysal 4.9.2 requires shapely>=2.0.1, but you have shapely 1.8.5.post1 which is incompatible.\r\n",
      "momepy 0.7.2 requires shapely>=2, but you have shapely 1.8.5.post1 which is incompatible.\r\n",
      "pointpats 2.5.0 requires shapely>=2, but you have shapely 1.8.5.post1 which is incompatible.\r\n",
      "rapids-dask-dependency 24.8.0a0 requires dask==2024.7.1, but you have dask 2024.8.1 which is incompatible.\r\n",
      "spaghetti 1.7.6 requires shapely>=2.0.1, but you have shapely 1.8.5.post1 which is incompatible.\r\n",
      "spopt 0.6.1 requires shapely>=2.0.1, but you have shapely 1.8.5.post1 which is incompatible.\r\n",
      "tsfresh 0.20.3 requires scipy>=1.14.0; python_version >= \"3.10\", but you have scipy 1.12.0 which is incompatible.\u001b[0m\u001b[31m\r\n",
      "\u001b[0mSuccessfully installed AutoROM.accept-rom-license-0.6.1 PyYAML-6.0.1 aiodns-3.2.0 aiohttp-cors-0.7.0 ale-py-0.8.1 alpaca-trade-api-3.2.0 autorom-0.6.1 ccxt-3.1.60 clarabel-0.9.0 cvxpy-1.5.3 elegantrl-0.3.10 empyrical-0.5.5 exchange-calendars-4.5.6 finrl-0.3.6 jqdatasdk-1.9.6 msgpack-1.0.3 multitasking-0.0.11 osqp-0.6.7.post1 peewee-3.17.6 ply-3.11 psycopg2-binary-2.9.9 pycares-4.4.0 pyfolio-0.9.2 pygame-2.6.0 pyluach-2.2.0 pymysql-1.1.1 pyportfolioopt-1.5.5 qdldl-0.1.7.post4 scipy-1.12.0 scs-3.2.7 shimmy-1.1.0 stockstats-0.5.4 thriftpy2-0.5.2 websockets-10.4 wrds-3.2.0 yfinance-0.2.43\r\n"
     ]
    }
   ],
   "source": [
    "# install finrl library\n",
    "!sudo apt install -y swig\n",
    "!pip install git+https://github.com/AI4Finance-Foundation/FinRL.git"
   ]
  },
  {
   "cell_type": "code",
   "execution_count": 3,
   "id": "8c062566",
   "metadata": {
    "execution": {
     "iopub.execute_input": "2024-09-22T20:40:06.963533Z",
     "iopub.status.busy": "2024-09-22T20:40:06.963141Z",
     "iopub.status.idle": "2024-09-22T20:40:20.507328Z",
     "shell.execute_reply": "2024-09-22T20:40:20.506152Z"
    },
    "papermill": {
     "duration": 13.576362,
     "end_time": "2024-09-22T20:40:20.509786",
     "exception": false,
     "start_time": "2024-09-22T20:40:06.933424",
     "status": "completed"
    },
    "tags": []
   },
   "outputs": [
    {
     "name": "stdout",
     "output_type": "stream",
     "text": [
      "Collecting quantstats\r\n",
      "  Downloading QuantStats-0.0.62-py2.py3-none-any.whl.metadata (8.9 kB)\r\n",
      "Requirement already satisfied: pandas>=0.24.0 in /opt/conda/lib/python3.10/site-packages (from quantstats) (2.2.2)\r\n",
      "Requirement already satisfied: numpy>=1.16.5 in /opt/conda/lib/python3.10/site-packages (from quantstats) (1.26.4)\r\n",
      "Requirement already satisfied: seaborn>=0.9.0 in /opt/conda/lib/python3.10/site-packages (from quantstats) (0.12.2)\r\n",
      "Requirement already satisfied: matplotlib>=3.0.0 in /opt/conda/lib/python3.10/site-packages (from quantstats) (3.7.5)\r\n",
      "Requirement already satisfied: scipy>=1.2.0 in /opt/conda/lib/python3.10/site-packages (from quantstats) (1.12.0)\r\n",
      "Requirement already satisfied: tabulate>=0.8.0 in /opt/conda/lib/python3.10/site-packages (from quantstats) (0.9.0)\r\n",
      "Requirement already satisfied: yfinance>=0.1.70 in /opt/conda/lib/python3.10/site-packages (from quantstats) (0.2.43)\r\n",
      "Requirement already satisfied: python-dateutil>=2.0 in /opt/conda/lib/python3.10/site-packages (from quantstats) (2.9.0.post0)\r\n",
      "Requirement already satisfied: contourpy>=1.0.1 in /opt/conda/lib/python3.10/site-packages (from matplotlib>=3.0.0->quantstats) (1.2.1)\r\n",
      "Requirement already satisfied: cycler>=0.10 in /opt/conda/lib/python3.10/site-packages (from matplotlib>=3.0.0->quantstats) (0.12.1)\r\n",
      "Requirement already satisfied: fonttools>=4.22.0 in /opt/conda/lib/python3.10/site-packages (from matplotlib>=3.0.0->quantstats) (4.53.0)\r\n",
      "Requirement already satisfied: kiwisolver>=1.0.1 in /opt/conda/lib/python3.10/site-packages (from matplotlib>=3.0.0->quantstats) (1.4.5)\r\n",
      "Requirement already satisfied: packaging>=20.0 in /opt/conda/lib/python3.10/site-packages (from matplotlib>=3.0.0->quantstats) (21.3)\r\n",
      "Requirement already satisfied: pillow>=6.2.0 in /opt/conda/lib/python3.10/site-packages (from matplotlib>=3.0.0->quantstats) (9.5.0)\r\n",
      "Requirement already satisfied: pyparsing>=2.3.1 in /opt/conda/lib/python3.10/site-packages (from matplotlib>=3.0.0->quantstats) (3.1.2)\r\n",
      "Requirement already satisfied: pytz>=2020.1 in /opt/conda/lib/python3.10/site-packages (from pandas>=0.24.0->quantstats) (2024.1)\r\n",
      "Requirement already satisfied: tzdata>=2022.7 in /opt/conda/lib/python3.10/site-packages (from pandas>=0.24.0->quantstats) (2024.1)\r\n",
      "Requirement already satisfied: six>=1.5 in /opt/conda/lib/python3.10/site-packages (from python-dateutil>=2.0->quantstats) (1.16.0)\r\n",
      "Requirement already satisfied: requests>=2.31 in /opt/conda/lib/python3.10/site-packages (from yfinance>=0.1.70->quantstats) (2.32.3)\r\n",
      "Requirement already satisfied: multitasking>=0.0.7 in /opt/conda/lib/python3.10/site-packages (from yfinance>=0.1.70->quantstats) (0.0.11)\r\n",
      "Requirement already satisfied: lxml>=4.9.1 in /opt/conda/lib/python3.10/site-packages (from yfinance>=0.1.70->quantstats) (5.3.0)\r\n",
      "Requirement already satisfied: platformdirs>=2.0.0 in /opt/conda/lib/python3.10/site-packages (from yfinance>=0.1.70->quantstats) (3.11.0)\r\n",
      "Requirement already satisfied: frozendict>=2.3.4 in /opt/conda/lib/python3.10/site-packages (from yfinance>=0.1.70->quantstats) (2.4.4)\r\n",
      "Requirement already satisfied: peewee>=3.16.2 in /opt/conda/lib/python3.10/site-packages (from yfinance>=0.1.70->quantstats) (3.17.6)\r\n",
      "Requirement already satisfied: beautifulsoup4>=4.11.1 in /opt/conda/lib/python3.10/site-packages (from yfinance>=0.1.70->quantstats) (4.12.3)\r\n",
      "Requirement already satisfied: html5lib>=1.1 in /opt/conda/lib/python3.10/site-packages (from yfinance>=0.1.70->quantstats) (1.1)\r\n",
      "Requirement already satisfied: soupsieve>1.2 in /opt/conda/lib/python3.10/site-packages (from beautifulsoup4>=4.11.1->yfinance>=0.1.70->quantstats) (2.5)\r\n",
      "Requirement already satisfied: webencodings in /opt/conda/lib/python3.10/site-packages (from html5lib>=1.1->yfinance>=0.1.70->quantstats) (0.5.1)\r\n",
      "Requirement already satisfied: charset-normalizer<4,>=2 in /opt/conda/lib/python3.10/site-packages (from requests>=2.31->yfinance>=0.1.70->quantstats) (3.3.2)\r\n",
      "Requirement already satisfied: idna<4,>=2.5 in /opt/conda/lib/python3.10/site-packages (from requests>=2.31->yfinance>=0.1.70->quantstats) (3.7)\r\n",
      "Requirement already satisfied: urllib3<3,>=1.21.1 in /opt/conda/lib/python3.10/site-packages (from requests>=2.31->yfinance>=0.1.70->quantstats) (1.26.18)\r\n",
      "Requirement already satisfied: certifi>=2017.4.17 in /opt/conda/lib/python3.10/site-packages (from requests>=2.31->yfinance>=0.1.70->quantstats) (2024.7.4)\r\n",
      "Downloading QuantStats-0.0.62-py2.py3-none-any.whl (45 kB)\r\n",
      "\u001b[2K   \u001b[90m━━━━━━━━━━━━━━━━━━━━━━━━━━━━━━━━━━━━━━━━\u001b[0m \u001b[32m45.5/45.5 kB\u001b[0m \u001b[31m1.4 MB/s\u001b[0m eta \u001b[36m0:00:00\u001b[0m\r\n",
      "\u001b[?25hInstalling collected packages: quantstats\r\n",
      "Successfully installed quantstats-0.0.62\r\n"
     ]
    }
   ],
   "source": [
    "# We also need to install quantstats, because the environment uses it to plot graphs\n",
    "!pip install quantstats"
   ]
  },
  {
   "cell_type": "code",
   "execution_count": 4,
   "id": "c17c9e51",
   "metadata": {
    "execution": {
     "iopub.execute_input": "2024-09-22T20:40:20.569026Z",
     "iopub.status.busy": "2024-09-22T20:40:20.568663Z",
     "iopub.status.idle": "2024-09-22T21:30:47.560316Z",
     "shell.execute_reply": "2024-09-22T21:30:47.559051Z"
    },
    "papermill": {
     "duration": 3027.023862,
     "end_time": "2024-09-22T21:30:47.562708",
     "exception": false,
     "start_time": "2024-09-22T20:40:20.538846",
     "status": "completed"
    },
    "tags": []
   },
   "outputs": [
    {
     "name": "stdout",
     "output_type": "stream",
     "text": [
      "Collecting torch-scatter\r\n",
      "  Downloading torch_scatter-2.1.2.tar.gz (108 kB)\r\n",
      "\u001b[2K     \u001b[90m━━━━━━━━━━━━━━━━━━━━━━━━━━━━━━━━━━━━━━━\u001b[0m \u001b[32m108.0/108.0 kB\u001b[0m \u001b[31m3.6 MB/s\u001b[0m eta \u001b[36m0:00:00\u001b[0m\r\n",
      "\u001b[?25h  Preparing metadata (setup.py) ... \u001b[?25l-\b \bdone\r\n",
      "\u001b[?25hCollecting torch-sparse\r\n",
      "  Downloading torch_sparse-0.6.18.tar.gz (209 kB)\r\n",
      "\u001b[2K     \u001b[90m━━━━━━━━━━━━━━━━━━━━━━━━━━━━━━━━━━━━━━━\u001b[0m \u001b[32m210.0/210.0 kB\u001b[0m \u001b[31m2.3 MB/s\u001b[0m eta \u001b[36m0:00:00\u001b[0m\r\n",
      "\u001b[?25h  Preparing metadata (setup.py) ... \u001b[?25l-\b \bdone\r\n",
      "\u001b[?25hCollecting torch-cluster\r\n",
      "  Downloading torch_cluster-1.6.3.tar.gz (54 kB)\r\n",
      "\u001b[2K     \u001b[90m━━━━━━━━━━━━━━━━━━━━━━━━━━━━━━━━━━━━━━━━\u001b[0m \u001b[32m54.5/54.5 kB\u001b[0m \u001b[31m3.2 MB/s\u001b[0m eta \u001b[36m0:00:00\u001b[0m\r\n",
      "\u001b[?25h  Preparing metadata (setup.py) ... \u001b[?25l-\b \bdone\r\n",
      "\u001b[?25hCollecting torch-spline-conv\r\n",
      "  Downloading torch_spline_conv-1.2.2.tar.gz (25 kB)\r\n",
      "  Preparing metadata (setup.py) ... \u001b[?25l-\b \bdone\r\n",
      "\u001b[?25hCollecting torch-geometric\r\n",
      "  Downloading torch_geometric-2.6.0-py3-none-any.whl.metadata (63 kB)\r\n",
      "\u001b[2K     \u001b[90m━━━━━━━━━━━━━━━━━━━━━━━━━━━━━━━━━━━━━━━━\u001b[0m \u001b[32m63.1/63.1 kB\u001b[0m \u001b[31m3.9 MB/s\u001b[0m eta \u001b[36m0:00:00\u001b[0m\r\n",
      "\u001b[?25hRequirement already satisfied: scipy in /opt/conda/lib/python3.10/site-packages (from torch-sparse) (1.12.0)\r\n",
      "Requirement already satisfied: aiohttp in /opt/conda/lib/python3.10/site-packages (from torch-geometric) (3.9.5)\r\n",
      "Requirement already satisfied: fsspec in /opt/conda/lib/python3.10/site-packages (from torch-geometric) (2024.6.1)\r\n",
      "Requirement already satisfied: jinja2 in /opt/conda/lib/python3.10/site-packages (from torch-geometric) (3.1.4)\r\n",
      "Requirement already satisfied: numpy in /opt/conda/lib/python3.10/site-packages (from torch-geometric) (1.26.4)\r\n",
      "Requirement already satisfied: psutil>=5.8.0 in /opt/conda/lib/python3.10/site-packages (from torch-geometric) (5.9.3)\r\n",
      "Requirement already satisfied: pyparsing in /opt/conda/lib/python3.10/site-packages (from torch-geometric) (3.1.2)\r\n",
      "Requirement already satisfied: requests in /opt/conda/lib/python3.10/site-packages (from torch-geometric) (2.32.3)\r\n",
      "Requirement already satisfied: tqdm in /opt/conda/lib/python3.10/site-packages (from torch-geometric) (4.66.4)\r\n",
      "Requirement already satisfied: aiosignal>=1.1.2 in /opt/conda/lib/python3.10/site-packages (from aiohttp->torch-geometric) (1.3.1)\r\n",
      "Requirement already satisfied: attrs>=17.3.0 in /opt/conda/lib/python3.10/site-packages (from aiohttp->torch-geometric) (23.2.0)\r\n",
      "Requirement already satisfied: frozenlist>=1.1.1 in /opt/conda/lib/python3.10/site-packages (from aiohttp->torch-geometric) (1.4.1)\r\n",
      "Requirement already satisfied: multidict<7.0,>=4.5 in /opt/conda/lib/python3.10/site-packages (from aiohttp->torch-geometric) (6.0.5)\r\n",
      "Requirement already satisfied: yarl<2.0,>=1.0 in /opt/conda/lib/python3.10/site-packages (from aiohttp->torch-geometric) (1.9.4)\r\n",
      "Requirement already satisfied: async-timeout<5.0,>=4.0 in /opt/conda/lib/python3.10/site-packages (from aiohttp->torch-geometric) (4.0.3)\r\n",
      "Requirement already satisfied: MarkupSafe>=2.0 in /opt/conda/lib/python3.10/site-packages (from jinja2->torch-geometric) (2.1.5)\r\n",
      "Requirement already satisfied: charset-normalizer<4,>=2 in /opt/conda/lib/python3.10/site-packages (from requests->torch-geometric) (3.3.2)\r\n",
      "Requirement already satisfied: idna<4,>=2.5 in /opt/conda/lib/python3.10/site-packages (from requests->torch-geometric) (3.7)\r\n",
      "Requirement already satisfied: urllib3<3,>=1.21.1 in /opt/conda/lib/python3.10/site-packages (from requests->torch-geometric) (1.26.18)\r\n",
      "Requirement already satisfied: certifi>=2017.4.17 in /opt/conda/lib/python3.10/site-packages (from requests->torch-geometric) (2024.7.4)\r\n",
      "Downloading torch_geometric-2.6.0-py3-none-any.whl (1.1 MB)\r\n",
      "\u001b[2K   \u001b[90m━━━━━━━━━━━━━━━━━━━━━━━━━━━━━━━━━━━━━━━━\u001b[0m \u001b[32m1.1/1.1 MB\u001b[0m \u001b[31m37.6 MB/s\u001b[0m eta \u001b[36m0:00:00\u001b[0m\r\n",
      "\u001b[?25hBuilding wheels for collected packages: torch-scatter, torch-sparse, torch-cluster, torch-spline-conv\r\n",
      "  Building wheel for torch-scatter (setup.py) ... \u001b[?25l-\b \b\\\b \b|\b \bdone\r\n",
      "\u001b[?25h  Created wheel for torch-scatter: filename=torch_scatter-2.1.2-cp310-cp310-linux_x86_64.whl size=3666177 sha256=d97f1813fc098ccaa0be821d9d16f13f87d6cb6f80edaf621c54701b0ebafb85\r\n",
      "  Stored in directory: /root/.cache/pip/wheels/92/f1/2b/3b46d54b134259f58c8363568569053248040859b1a145b3ce\r\n",
      "  Building wheel for torch-sparse (setup.py) ... \u001b[?25l-\b \b\\\b \b|\b \b/\b \b-\b \b\\\b \b|\b \b/\b \b-\b \b\\\b \b|\b \b/\b \b-\b \b\\\b \b|\b \b/\b \b-\b \b\\\b \b|\b \b/\b \b-\b \b\\\b \b|\b \b/\b \b-\b \b\\\b \b|\b \b/\b \b-\b \b\\\b \b|\b \b/\b \b-\b \b\\\b \b|\b \b/\b \b-\b \b\\\b \b|\b \b/\b \b-\b \b\\\b \b|\b \b/\b \b-\b \b\\\b \b|\b \b/\b \b-\b \b\\\b \b|\b \b/\b \b-\b \b\\\b \b|\b \b/\b \b-\b \b\\\b \b|\b \b/\b \b-\b \b\\\b \b|\b \b/\b \b-\b \b\\\b \b|\b \b/\b \b-\b \b\\\b \b|\b \b/\b \b-\b \b\\\b \b|\b \b/\b \bdone\r\n",
      "\u001b[?25h  Created wheel for torch-sparse: filename=torch_sparse-0.6.18-cp310-cp310-linux_x86_64.whl size=2832915 sha256=eac91179f05863071ea22cff6fa28d132dccd14792ca3c4f62b663263cd17d6f\r\n",
      "  Stored in directory: /root/.cache/pip/wheels/c9/dd/0f/a6a16f9f3b0236733d257b4b4ea91b548b984a341ed3b8f38c\r\n",
      "  Building wheel for torch-cluster (setup.py) ... \u001b[?25l-\b \b\\\b \b|\b \bdone\r\n",
      "\u001b[?25h  Created wheel for torch-cluster: filename=torch_cluster-1.6.3-cp310-cp310-linux_x86_64.whl size=2072288 sha256=e6d4659cd352b48de3296e31b7739357bcce5738987a7fabef4accdbe470f7df\r\n",
      "  Stored in directory: /root/.cache/pip/wheels/51/78/c3/536637b3cdcc3313aa5e8851a6c72b97f6a01877e68c7595e3\r\n",
      "  Building wheel for torch-spline-conv (setup.py) ... \u001b[?25l-\b \b\\\b \b|\b \bdone\r\n",
      "\u001b[?25h  Created wheel for torch-spline-conv: filename=torch_spline_conv-1.2.2-cp310-cp310-linux_x86_64.whl size=568081 sha256=2648d057b40d7e5ad9de82dbc32d36a4a73f003e52f9cadd9cf5583b1a899693\r\n",
      "  Stored in directory: /root/.cache/pip/wheels/fc/34/be/187e4b5f5ccefecca2c1a5dfc8da244ec50baa1f33c7b8c9a1\r\n",
      "Successfully built torch-scatter torch-sparse torch-cluster torch-spline-conv\r\n",
      "Installing collected packages: torch-spline-conv, torch-scatter, torch-sparse, torch-cluster, torch-geometric\r\n",
      "Successfully installed torch-cluster-1.6.3 torch-geometric-2.6.0 torch-scatter-2.1.2 torch-sparse-0.6.18 torch-spline-conv-1.2.2\r\n"
     ]
    }
   ],
   "source": [
    "!pip install torch-scatter torch-sparse torch-cluster torch-spline-conv torch-geometric"
   ]
  },
  {
   "cell_type": "code",
   "execution_count": 5,
   "id": "0ad1fb45",
   "metadata": {
    "execution": {
     "iopub.execute_input": "2024-09-22T21:30:47.639293Z",
     "iopub.status.busy": "2024-09-22T21:30:47.638895Z",
     "iopub.status.idle": "2024-09-22T21:30:47.644279Z",
     "shell.execute_reply": "2024-09-22T21:30:47.643427Z"
    },
    "papermill": {
     "duration": 0.045935,
     "end_time": "2024-09-22T21:30:47.646125",
     "exception": false,
     "start_time": "2024-09-22T21:30:47.600190",
     "status": "completed"
    },
    "tags": []
   },
   "outputs": [],
   "source": [
    "# Hide matplotlib warnings\n",
    "import warnings\n",
    "warnings.filterwarnings('ignore')\n",
    "\n",
    "import logging\n",
    "logging.getLogger('matplotlib.font_manager').disabled = True"
   ]
  },
  {
   "cell_type": "code",
   "execution_count": 6,
   "id": "edca3225",
   "metadata": {
    "execution": {
     "iopub.execute_input": "2024-09-22T21:30:47.720853Z",
     "iopub.status.busy": "2024-09-22T21:30:47.720571Z",
     "iopub.status.idle": "2024-09-22T21:31:09.320065Z",
     "shell.execute_reply": "2024-09-22T21:31:09.319251Z"
    },
    "papermill": {
     "duration": 21.639339,
     "end_time": "2024-09-22T21:31:09.322377",
     "exception": false,
     "start_time": "2024-09-22T21:30:47.683038",
     "status": "completed"
    },
    "tags": []
   },
   "outputs": [],
   "source": [
    "import torch\n",
    "\n",
    "import numpy as np\n",
    "import pandas as pd\n",
    "\n",
    "from torch_geometric.utils import k_hop_subgraph\n",
    "\n",
    "from finrl.meta.preprocessor.yahoodownloader import YahooDownloader\n",
    "from finrl.meta.env_portfolio_optimization.env_portfolio_optimization import PortfolioOptimizationEnv\n",
    "from finrl.agents.portfolio_optimization.models import DRLAgent\n",
    "from finrl.agents.portfolio_optimization.architectures import GPM\n",
    "\n",
    "device = 'cuda:0' if torch.cuda.is_available() else 'cpu'"
   ]
  },
  {
   "cell_type": "code",
   "execution_count": null,
   "id": "dc35818a",
   "metadata": {
    "papermill": {
     "duration": 0.03799,
     "end_time": "2024-09-22T21:31:09.398691",
     "exception": false,
     "start_time": "2024-09-22T21:31:09.360701",
     "status": "completed"
    },
    "tags": []
   },
   "outputs": [],
   "source": []
  },
  {
   "cell_type": "code",
   "execution_count": 7,
   "id": "c4fd3162",
   "metadata": {
    "execution": {
     "iopub.execute_input": "2024-09-22T21:31:09.476000Z",
     "iopub.status.busy": "2024-09-22T21:31:09.474877Z",
     "iopub.status.idle": "2024-09-22T21:31:18.345946Z",
     "shell.execute_reply": "2024-09-22T21:31:18.344947Z"
    },
    "papermill": {
     "duration": 8.911739,
     "end_time": "2024-09-22T21:31:18.348010",
     "exception": false,
     "start_time": "2024-09-22T21:31:09.436271",
     "status": "completed"
    },
    "tags": []
   },
   "outputs": [
    {
     "name": "stdout",
     "output_type": "stream",
     "text": [
      "  % Total    % Received % Xferd  Average Speed   Time    Time     Time  Current\r\n",
      "                                 Dload  Upload   Total   Spent    Left  Speed\r\n",
      "  0     0    0     0    0     0      0      0 --:--:-- --:--:-- --:--:--     0\r\n",
      "  0     0    0     0    0     0      0      0 --:--:-- --:--:-- --:--:--     0\r\n",
      "100  146M    0  146M    0     0  18.6M      0 --:--:--  0:00:07 --:--:-- 33.0M\r\n"
     ]
    }
   ],
   "source": [
    "# download repository with data and extract tar.gz file with processed temporal data\n",
    "!curl -L -O https://github.com/C4i0kun/Temporal_Relational_Stock_Ranking_FinRL/archive/refs/heads/main.zip\n",
    "# !unzip Temporal_Relational_Stock_Ranking_FinRL-main.zip\n",
    "# !mv Temporal_Relational_Stock_Ranking_FinRL-main Temporal_Relational_Stock_Ranking_FinRL\n",
    "# !tar -xzvf Temporal_Relational_Stock_Ranking_FinRL/temporal_data/temporal_data_processed.tar.gz -C Temporal_Relational_Stock_Ranking_FinRL/temporal_data"
   ]
  },
  {
   "cell_type": "code",
   "execution_count": 8,
   "id": "92ae0bec",
   "metadata": {
    "execution": {
     "iopub.execute_input": "2024-09-22T21:31:18.466274Z",
     "iopub.status.busy": "2024-09-22T21:31:18.465887Z",
     "iopub.status.idle": "2024-09-22T21:31:19.498275Z",
     "shell.execute_reply": "2024-09-22T21:31:19.497227Z"
    },
    "papermill": {
     "duration": 1.114478,
     "end_time": "2024-09-22T21:31:19.500511",
     "exception": false,
     "start_time": "2024-09-22T21:31:18.386033",
     "status": "completed"
    },
    "tags": []
   },
   "outputs": [
    {
     "name": "stdout",
     "output_type": "stream",
     "text": [
      "total 147M\r\n",
      "---------- 1 root root 143K Sep 22 21:31 __notebook__.ipynb\r\n",
      "-rw-r--r-- 1 root root 147M Sep 22 21:31 main.zip\r\n"
     ]
    }
   ],
   "source": [
    "ls -lh"
   ]
  },
  {
   "cell_type": "code",
   "execution_count": 9,
   "id": "45005773",
   "metadata": {
    "execution": {
     "iopub.execute_input": "2024-09-22T21:31:19.578519Z",
     "iopub.status.busy": "2024-09-22T21:31:19.578188Z",
     "iopub.status.idle": "2024-09-22T21:31:21.785415Z",
     "shell.execute_reply": "2024-09-22T21:31:21.784256Z"
    },
    "papermill": {
     "duration": 2.249238,
     "end_time": "2024-09-22T21:31:21.787760",
     "exception": false,
     "start_time": "2024-09-22T21:31:19.538522",
     "status": "completed"
    },
    "tags": []
   },
   "outputs": [
    {
     "name": "stdout",
     "output_type": "stream",
     "text": [
      "Archive:  main.zip\r\n",
      "b0a94b8166432fd6440899e8111aaef24f5cff62\r\n",
      "   creating: Temporal_Relational_Stock_Ranking_FinRL-main/\r\n",
      " extracting: Temporal_Relational_Stock_Ranking_FinRL-main/.gitignore  \r\n",
      "  inflating: Temporal_Relational_Stock_Ranking_FinRL-main/LICENSE  \r\n",
      "  inflating: Temporal_Relational_Stock_Ranking_FinRL-main/README.md  \r\n",
      "   creating: Temporal_Relational_Stock_Ranking_FinRL-main/relational_data/\r\n",
      "   creating: Temporal_Relational_Stock_Ranking_FinRL-main/relational_data/edge_indexes/\r\n",
      "  inflating: Temporal_Relational_Stock_Ranking_FinRL-main/relational_data/edge_indexes/NASDAQ_sector_industry_edge_index.npy  \r\n",
      "  inflating: Temporal_Relational_Stock_Ranking_FinRL-main/relational_data/edge_indexes/NASDAQ_wikidata_edge_index.npy  \r\n",
      "  inflating: Temporal_Relational_Stock_Ranking_FinRL-main/relational_data/edge_indexes/NYSE_sector_industry_edge_index.npy  \r\n",
      "  inflating: Temporal_Relational_Stock_Ranking_FinRL-main/relational_data/edge_indexes/NYSE_wikidata_edge_index.npy  \r\n",
      "   creating: Temporal_Relational_Stock_Ranking_FinRL-main/relational_data/edge_types/\r\n",
      "  inflating: Temporal_Relational_Stock_Ranking_FinRL-main/relational_data/edge_types/NASDAQ_sector_industry_edge_type.npy  \r\n",
      "  inflating: Temporal_Relational_Stock_Ranking_FinRL-main/relational_data/edge_types/NASDAQ_wikidata_edge_type.npy  \r\n",
      "  inflating: Temporal_Relational_Stock_Ranking_FinRL-main/relational_data/edge_types/NYSE_sector_industry_edge_type.npy  \r\n",
      "  inflating: Temporal_Relational_Stock_Ranking_FinRL-main/relational_data/edge_types/NYSE_wikidata_edge_type.npy  \r\n",
      "   creating: Temporal_Relational_Stock_Ranking_FinRL-main/relational_data/gephi_visualizations/\r\n",
      "  inflating: Temporal_Relational_Stock_Ranking_FinRL-main/relational_data/gephi_visualizations/NASDAQ_sector_industry.gexf  \r\n",
      "  inflating: Temporal_Relational_Stock_Ranking_FinRL-main/relational_data/gephi_visualizations/NASDAQ_wikidata.gexf  \r\n",
      "  inflating: Temporal_Relational_Stock_Ranking_FinRL-main/relational_data/gephi_visualizations/NYSE_sector_industry.gexf  \r\n",
      "  inflating: Temporal_Relational_Stock_Ranking_FinRL-main/relational_data/gephi_visualizations/NYSE_wikidata.gexf  \r\n",
      "  inflating: Temporal_Relational_Stock_Ranking_FinRL-main/requirements.txt  \r\n",
      "   creating: Temporal_Relational_Stock_Ranking_FinRL-main/scripts/\r\n",
      "  inflating: Temporal_Relational_Stock_Ranking_FinRL-main/scripts/generate_sector_industry_data.ipynb  \r\n",
      "  inflating: Temporal_Relational_Stock_Ranking_FinRL-main/scripts/generate_temporal_data.ipynb  \r\n",
      "  inflating: Temporal_Relational_Stock_Ranking_FinRL-main/scripts/generate_wikidata_data.ipynb  \r\n",
      "   creating: Temporal_Relational_Stock_Ranking_FinRL-main/temporal_data/\r\n",
      " extracting: Temporal_Relational_Stock_Ranking_FinRL-main/temporal_data/temporal_data_processed.tar.gz  \r\n",
      " extracting: Temporal_Relational_Stock_Ranking_FinRL-main/temporal_data/temporal_data_raw.tar.gz  \r\n"
     ]
    }
   ],
   "source": [
    "#!unzip Temporal_Relational_Stock_Ranking_FinRL-main.zip\n",
    "!unzip main.zip"
   ]
  },
  {
   "cell_type": "code",
   "execution_count": 10,
   "id": "164a4e07",
   "metadata": {
    "execution": {
     "iopub.execute_input": "2024-09-22T21:31:21.868657Z",
     "iopub.status.busy": "2024-09-22T21:31:21.868188Z",
     "iopub.status.idle": "2024-09-22T21:31:25.591547Z",
     "shell.execute_reply": "2024-09-22T21:31:25.590412Z"
    },
    "papermill": {
     "duration": 3.76653,
     "end_time": "2024-09-22T21:31:25.594007",
     "exception": false,
     "start_time": "2024-09-22T21:31:21.827477",
     "status": "completed"
    },
    "tags": []
   },
   "outputs": [
    {
     "name": "stdout",
     "output_type": "stream",
     "text": [
      "NASDAQ_temporal_data.csv\r\n",
      "NYSE_temporal_data.csv\r\n"
     ]
    }
   ],
   "source": [
    "!mv Temporal_Relational_Stock_Ranking_FinRL-main Temporal_Relational_Stock_Ranking_FinRL\n",
    "!tar -xzvf Temporal_Relational_Stock_Ranking_FinRL/temporal_data/temporal_data_processed.tar.gz -C Temporal_Relational_Stock_Ranking_FinRL/temporal_data"
   ]
  },
  {
   "cell_type": "code",
   "execution_count": 11,
   "id": "988e6304",
   "metadata": {
    "execution": {
     "iopub.execute_input": "2024-09-22T21:31:25.672784Z",
     "iopub.status.busy": "2024-09-22T21:31:25.672393Z",
     "iopub.status.idle": "2024-09-22T21:31:26.803344Z",
     "shell.execute_reply": "2024-09-22T21:31:26.802282Z"
    },
    "papermill": {
     "duration": 1.172563,
     "end_time": "2024-09-22T21:31:26.805453",
     "exception": false,
     "start_time": "2024-09-22T21:31:25.632890",
     "status": "completed"
    },
    "tags": []
   },
   "outputs": [
    {
     "data": {
      "text/html": [
       "<div>\n",
       "<style scoped>\n",
       "    .dataframe tbody tr th:only-of-type {\n",
       "        vertical-align: middle;\n",
       "    }\n",
       "\n",
       "    .dataframe tbody tr th {\n",
       "        vertical-align: top;\n",
       "    }\n",
       "\n",
       "    .dataframe thead th {\n",
       "        text-align: right;\n",
       "    }\n",
       "</style>\n",
       "<table border=\"1\" class=\"dataframe\">\n",
       "  <thead>\n",
       "    <tr style=\"text-align: right;\">\n",
       "      <th></th>\n",
       "      <th>day</th>\n",
       "      <th>open</th>\n",
       "      <th>high</th>\n",
       "      <th>low</th>\n",
       "      <th>close</th>\n",
       "      <th>volume</th>\n",
       "      <th>tic</th>\n",
       "    </tr>\n",
       "  </thead>\n",
       "  <tbody>\n",
       "    <tr>\n",
       "      <th>0</th>\n",
       "      <td>0</td>\n",
       "      <td>0.270533</td>\n",
       "      <td>0.269522</td>\n",
       "      <td>0.267237</td>\n",
       "      <td>0.263333</td>\n",
       "      <td>0.275333</td>\n",
       "      <td>AABA</td>\n",
       "    </tr>\n",
       "    <tr>\n",
       "      <th>1</th>\n",
       "      <td>0</td>\n",
       "      <td>0.238730</td>\n",
       "      <td>0.237522</td>\n",
       "      <td>0.239888</td>\n",
       "      <td>0.240502</td>\n",
       "      <td>0.248031</td>\n",
       "      <td>AAON</td>\n",
       "    </tr>\n",
       "    <tr>\n",
       "      <th>2</th>\n",
       "      <td>0</td>\n",
       "      <td>0.424556</td>\n",
       "      <td>0.424768</td>\n",
       "      <td>0.429769</td>\n",
       "      <td>0.442628</td>\n",
       "      <td>0.445018</td>\n",
       "      <td>AAPL</td>\n",
       "    </tr>\n",
       "    <tr>\n",
       "      <th>3</th>\n",
       "      <td>0</td>\n",
       "      <td>0.650667</td>\n",
       "      <td>0.648412</td>\n",
       "      <td>0.634492</td>\n",
       "      <td>0.631473</td>\n",
       "      <td>0.667839</td>\n",
       "      <td>AAWW</td>\n",
       "    </tr>\n",
       "    <tr>\n",
       "      <th>4</th>\n",
       "      <td>0</td>\n",
       "      <td>0.766565</td>\n",
       "      <td>0.761693</td>\n",
       "      <td>0.759330</td>\n",
       "      <td>0.750061</td>\n",
       "      <td>0.788157</td>\n",
       "      <td>AAXJ</td>\n",
       "    </tr>\n",
       "    <tr>\n",
       "      <th>...</th>\n",
       "      <td>...</td>\n",
       "      <td>...</td>\n",
       "      <td>...</td>\n",
       "      <td>...</td>\n",
       "      <td>...</td>\n",
       "      <td>...</td>\n",
       "      <td>...</td>\n",
       "    </tr>\n",
       "    <tr>\n",
       "      <th>1277365</th>\n",
       "      <td>1244</td>\n",
       "      <td>0.909992</td>\n",
       "      <td>0.918809</td>\n",
       "      <td>0.912345</td>\n",
       "      <td>0.922698</td>\n",
       "      <td>0.913021</td>\n",
       "      <td>ZBRA</td>\n",
       "    </tr>\n",
       "    <tr>\n",
       "      <th>1277366</th>\n",
       "      <td>1244</td>\n",
       "      <td>0.660990</td>\n",
       "      <td>0.648907</td>\n",
       "      <td>0.636086</td>\n",
       "      <td>0.630816</td>\n",
       "      <td>0.665167</td>\n",
       "      <td>ZEUS</td>\n",
       "    </tr>\n",
       "    <tr>\n",
       "      <th>1277367</th>\n",
       "      <td>1244</td>\n",
       "      <td>0.981600</td>\n",
       "      <td>0.961674</td>\n",
       "      <td>0.926768</td>\n",
       "      <td>0.914257</td>\n",
       "      <td>0.984345</td>\n",
       "      <td>ZION</td>\n",
       "    </tr>\n",
       "    <tr>\n",
       "      <th>1277368</th>\n",
       "      <td>1244</td>\n",
       "      <td>0.980227</td>\n",
       "      <td>0.974903</td>\n",
       "      <td>0.960225</td>\n",
       "      <td>0.964956</td>\n",
       "      <td>0.997580</td>\n",
       "      <td>ZIV</td>\n",
       "    </tr>\n",
       "    <tr>\n",
       "      <th>1277369</th>\n",
       "      <td>1244</td>\n",
       "      <td>0.509179</td>\n",
       "      <td>0.500725</td>\n",
       "      <td>0.475543</td>\n",
       "      <td>0.459018</td>\n",
       "      <td>0.512077</td>\n",
       "      <td>ZUMZ</td>\n",
       "    </tr>\n",
       "  </tbody>\n",
       "</table>\n",
       "<p>1277370 rows × 7 columns</p>\n",
       "</div>"
      ],
      "text/plain": [
       "          day      open      high       low     close    volume   tic\n",
       "0           0  0.270533  0.269522  0.267237  0.263333  0.275333  AABA\n",
       "1           0  0.238730  0.237522  0.239888  0.240502  0.248031  AAON\n",
       "2           0  0.424556  0.424768  0.429769  0.442628  0.445018  AAPL\n",
       "3           0  0.650667  0.648412  0.634492  0.631473  0.667839  AAWW\n",
       "4           0  0.766565  0.761693  0.759330  0.750061  0.788157  AAXJ\n",
       "...       ...       ...       ...       ...       ...       ...   ...\n",
       "1277365  1244  0.909992  0.918809  0.912345  0.922698  0.913021  ZBRA\n",
       "1277366  1244  0.660990  0.648907  0.636086  0.630816  0.665167  ZEUS\n",
       "1277367  1244  0.981600  0.961674  0.926768  0.914257  0.984345  ZION\n",
       "1277368  1244  0.980227  0.974903  0.960225  0.964956  0.997580   ZIV\n",
       "1277369  1244  0.509179  0.500725  0.475543  0.459018  0.512077  ZUMZ\n",
       "\n",
       "[1277370 rows x 7 columns]"
      ]
     },
     "execution_count": 11,
     "metadata": {},
     "output_type": "execute_result"
    }
   ],
   "source": [
    "nasdaq_temporal = pd.read_csv(\"/kaggle/working/Temporal_Relational_Stock_Ranking_FinRL/temporal_data/NASDAQ_temporal_data.csv\")\n",
    "nasdaq_temporal"
   ]
  },
  {
   "cell_type": "code",
   "execution_count": 12,
   "id": "64ab0b97",
   "metadata": {
    "execution": {
     "iopub.execute_input": "2024-09-22T21:31:26.885889Z",
     "iopub.status.busy": "2024-09-22T21:31:26.885577Z",
     "iopub.status.idle": "2024-09-22T21:31:26.892233Z",
     "shell.execute_reply": "2024-09-22T21:31:26.891377Z"
    },
    "papermill": {
     "duration": 0.048058,
     "end_time": "2024-09-22T21:31:26.894091",
     "exception": false,
     "start_time": "2024-09-22T21:31:26.846033",
     "status": "completed"
    },
    "tags": []
   },
   "outputs": [
    {
     "data": {
      "text/plain": [
       "array([[   0,   15,    0, ..., 1021, 1014, 1024],\n",
       "       [  15,    0,   18, ..., 1011, 1024, 1014]])"
      ]
     },
     "execution_count": 12,
     "metadata": {},
     "output_type": "execute_result"
    }
   ],
   "source": [
    "nasdaq_edge_index = np.load(\"/kaggle/working/Temporal_Relational_Stock_Ranking_FinRL/relational_data/edge_indexes/NASDAQ_sector_industry_edge_index.npy\")\n",
    "nasdaq_edge_index"
   ]
  },
  {
   "cell_type": "code",
   "execution_count": 13,
   "id": "cfe26b45",
   "metadata": {
    "execution": {
     "iopub.execute_input": "2024-09-22T21:31:26.972479Z",
     "iopub.status.busy": "2024-09-22T21:31:26.972187Z",
     "iopub.status.idle": "2024-09-22T21:31:26.978629Z",
     "shell.execute_reply": "2024-09-22T21:31:26.977816Z"
    },
    "papermill": {
     "duration": 0.047782,
     "end_time": "2024-09-22T21:31:26.980492",
     "exception": false,
     "start_time": "2024-09-22T21:31:26.932710",
     "status": "completed"
    },
    "tags": []
   },
   "outputs": [
    {
     "data": {
      "text/plain": [
       "array([ 0,  0,  0, ...,  1, 26, 26])"
      ]
     },
     "execution_count": 13,
     "metadata": {},
     "output_type": "execute_result"
    }
   ],
   "source": [
    "nasdaq_edge_type = np.load(\"/kaggle/working/Temporal_Relational_Stock_Ranking_FinRL/relational_data/edge_types/NASDAQ_sector_industry_edge_type.npy\")\n",
    "nasdaq_edge_type"
   ]
  },
  {
   "cell_type": "code",
   "execution_count": 14,
   "id": "c0979d31",
   "metadata": {
    "execution": {
     "iopub.execute_input": "2024-09-22T21:31:27.062684Z",
     "iopub.status.busy": "2024-09-22T21:31:27.062092Z",
     "iopub.status.idle": "2024-09-22T21:31:27.169153Z",
     "shell.execute_reply": "2024-09-22T21:31:27.168262Z"
    },
    "papermill": {
     "duration": 0.149006,
     "end_time": "2024-09-22T21:31:27.171048",
     "exception": false,
     "start_time": "2024-09-22T21:31:27.022042",
     "status": "completed"
    },
    "tags": []
   },
   "outputs": [
    {
     "data": {
      "text/plain": [
       "[2, 185, 215, 310, 395, 464, 596, 603, 637, 768, 1014]"
      ]
     },
     "execution_count": 14,
     "metadata": {},
     "output_type": "execute_result"
    }
   ],
   "source": [
    "list_of_stocks = nasdaq_temporal[\"tic\"].unique().tolist()\n",
    "tics_in_portfolio = [\"AAPL\", \"CMCSA\", \"CSCO\", \"FB\", \"HBAN\", \"INTC\", \"MSFT\", \"MU\", \"NVDA\", \"QQQ\", \"XIV\"]\n",
    "\n",
    "portfolio_nodes = []\n",
    "for tic in tics_in_portfolio:\n",
    "    portfolio_nodes.append(list_of_stocks.index(tic))\n",
    "portfolio_nodes"
   ]
  },
  {
   "cell_type": "code",
   "execution_count": 15,
   "id": "68a60faa",
   "metadata": {
    "execution": {
     "iopub.execute_input": "2024-09-22T21:31:27.250648Z",
     "iopub.status.busy": "2024-09-22T21:31:27.250366Z",
     "iopub.status.idle": "2024-09-22T21:31:27.346484Z",
     "shell.execute_reply": "2024-09-22T21:31:27.345707Z"
    },
    "papermill": {
     "duration": 0.137971,
     "end_time": "2024-09-22T21:31:27.348381",
     "exception": false,
     "start_time": "2024-09-22T21:31:27.210410",
     "status": "completed"
    },
    "tags": []
   },
   "outputs": [],
   "source": [
    "nodes_kept, new_edge_index, nodes_to_select, edge_mask = k_hop_subgraph(\n",
    "    torch.LongTensor(portfolio_nodes),\n",
    "    2,\n",
    "    torch.from_numpy(nasdaq_edge_index),\n",
    "    relabel_nodes=True,\n",
    ")"
   ]
  },
  {
   "cell_type": "code",
   "execution_count": 16,
   "id": "d086e935",
   "metadata": {
    "execution": {
     "iopub.execute_input": "2024-09-22T21:31:27.429512Z",
     "iopub.status.busy": "2024-09-22T21:31:27.429179Z",
     "iopub.status.idle": "2024-09-22T21:31:27.648515Z",
     "shell.execute_reply": "2024-09-22T21:31:27.647543Z"
    },
    "papermill": {
     "duration": 0.262472,
     "end_time": "2024-09-22T21:31:27.650550",
     "exception": false,
     "start_time": "2024-09-22T21:31:27.388078",
     "status": "completed"
    },
    "tags": []
   },
   "outputs": [
    {
     "data": {
      "text/html": [
       "<div>\n",
       "<style scoped>\n",
       "    .dataframe tbody tr th:only-of-type {\n",
       "        vertical-align: middle;\n",
       "    }\n",
       "\n",
       "    .dataframe tbody tr th {\n",
       "        vertical-align: top;\n",
       "    }\n",
       "\n",
       "    .dataframe thead th {\n",
       "        text-align: right;\n",
       "    }\n",
       "</style>\n",
       "<table border=\"1\" class=\"dataframe\">\n",
       "  <thead>\n",
       "    <tr style=\"text-align: right;\">\n",
       "      <th></th>\n",
       "      <th>day</th>\n",
       "      <th>open</th>\n",
       "      <th>high</th>\n",
       "      <th>low</th>\n",
       "      <th>close</th>\n",
       "      <th>volume</th>\n",
       "      <th>tic</th>\n",
       "    </tr>\n",
       "  </thead>\n",
       "  <tbody>\n",
       "    <tr>\n",
       "      <th>2</th>\n",
       "      <td>0</td>\n",
       "      <td>0.424556</td>\n",
       "      <td>0.424768</td>\n",
       "      <td>0.429769</td>\n",
       "      <td>0.442628</td>\n",
       "      <td>0.445018</td>\n",
       "      <td>AAPL</td>\n",
       "    </tr>\n",
       "    <tr>\n",
       "      <th>4</th>\n",
       "      <td>0</td>\n",
       "      <td>0.766565</td>\n",
       "      <td>0.761693</td>\n",
       "      <td>0.759330</td>\n",
       "      <td>0.750061</td>\n",
       "      <td>0.788157</td>\n",
       "      <td>AAXJ</td>\n",
       "    </tr>\n",
       "    <tr>\n",
       "      <th>7</th>\n",
       "      <td>0</td>\n",
       "      <td>0.244700</td>\n",
       "      <td>0.244212</td>\n",
       "      <td>0.238217</td>\n",
       "      <td>0.231041</td>\n",
       "      <td>0.251322</td>\n",
       "      <td>ABCB</td>\n",
       "    </tr>\n",
       "    <tr>\n",
       "      <th>8</th>\n",
       "      <td>0</td>\n",
       "      <td>0.689403</td>\n",
       "      <td>0.698864</td>\n",
       "      <td>0.695715</td>\n",
       "      <td>0.675068</td>\n",
       "      <td>0.708124</td>\n",
       "      <td>ABCO</td>\n",
       "    </tr>\n",
       "    <tr>\n",
       "      <th>13</th>\n",
       "      <td>0</td>\n",
       "      <td>0.566419</td>\n",
       "      <td>0.564621</td>\n",
       "      <td>0.563147</td>\n",
       "      <td>0.560503</td>\n",
       "      <td>0.579132</td>\n",
       "      <td>ACIW</td>\n",
       "    </tr>\n",
       "    <tr>\n",
       "      <th>...</th>\n",
       "      <td>...</td>\n",
       "      <td>...</td>\n",
       "      <td>...</td>\n",
       "      <td>...</td>\n",
       "      <td>...</td>\n",
       "      <td>...</td>\n",
       "      <td>...</td>\n",
       "    </tr>\n",
       "    <tr>\n",
       "      <th>1277358</th>\n",
       "      <td>1244</td>\n",
       "      <td>0.923544</td>\n",
       "      <td>0.922537</td>\n",
       "      <td>0.896003</td>\n",
       "      <td>0.888519</td>\n",
       "      <td>0.966042</td>\n",
       "      <td>XIV</td>\n",
       "    </tr>\n",
       "    <tr>\n",
       "      <th>1277359</th>\n",
       "      <td>1244</td>\n",
       "      <td>0.919490</td>\n",
       "      <td>0.931946</td>\n",
       "      <td>0.950966</td>\n",
       "      <td>0.960872</td>\n",
       "      <td>0.920000</td>\n",
       "      <td>XLNX</td>\n",
       "    </tr>\n",
       "    <tr>\n",
       "      <th>1277361</th>\n",
       "      <td>1244</td>\n",
       "      <td>0.736906</td>\n",
       "      <td>0.747264</td>\n",
       "      <td>0.744030</td>\n",
       "      <td>0.745198</td>\n",
       "      <td>0.743781</td>\n",
       "      <td>YNDX</td>\n",
       "    </tr>\n",
       "    <tr>\n",
       "      <th>1277367</th>\n",
       "      <td>1244</td>\n",
       "      <td>0.981600</td>\n",
       "      <td>0.961674</td>\n",
       "      <td>0.926768</td>\n",
       "      <td>0.914257</td>\n",
       "      <td>0.984345</td>\n",
       "      <td>ZION</td>\n",
       "    </tr>\n",
       "    <tr>\n",
       "      <th>1277368</th>\n",
       "      <td>1244</td>\n",
       "      <td>0.980227</td>\n",
       "      <td>0.974903</td>\n",
       "      <td>0.960225</td>\n",
       "      <td>0.964956</td>\n",
       "      <td>0.997580</td>\n",
       "      <td>ZIV</td>\n",
       "    </tr>\n",
       "  </tbody>\n",
       "</table>\n",
       "<p>517920 rows × 7 columns</p>\n",
       "</div>"
      ],
      "text/plain": [
       "          day      open      high       low     close    volume   tic\n",
       "2           0  0.424556  0.424768  0.429769  0.442628  0.445018  AAPL\n",
       "4           0  0.766565  0.761693  0.759330  0.750061  0.788157  AAXJ\n",
       "7           0  0.244700  0.244212  0.238217  0.231041  0.251322  ABCB\n",
       "8           0  0.689403  0.698864  0.695715  0.675068  0.708124  ABCO\n",
       "13          0  0.566419  0.564621  0.563147  0.560503  0.579132  ACIW\n",
       "...       ...       ...       ...       ...       ...       ...   ...\n",
       "1277358  1244  0.923544  0.922537  0.896003  0.888519  0.966042   XIV\n",
       "1277359  1244  0.919490  0.931946  0.950966  0.960872  0.920000  XLNX\n",
       "1277361  1244  0.736906  0.747264  0.744030  0.745198  0.743781  YNDX\n",
       "1277367  1244  0.981600  0.961674  0.926768  0.914257  0.984345  ZION\n",
       "1277368  1244  0.980227  0.974903  0.960225  0.964956  0.997580   ZIV\n",
       "\n",
       "[517920 rows x 7 columns]"
      ]
     },
     "execution_count": 16,
     "metadata": {},
     "output_type": "execute_result"
    }
   ],
   "source": [
    "# reduce temporal data\n",
    "nodes_kept = nodes_kept.tolist()\n",
    "nasdaq_temporal[\"tic_id\"], _ = pd.factorize(nasdaq_temporal[\"tic\"], sort=True)\n",
    "nasdaq_temporal = nasdaq_temporal[nasdaq_temporal[\"tic_id\"].isin(nodes_kept)]\n",
    "nasdaq_temporal = nasdaq_temporal.drop(columns=\"tic_id\")\n",
    "nasdaq_temporal"
   ]
  },
  {
   "cell_type": "code",
   "execution_count": 17,
   "id": "c1b52158",
   "metadata": {
    "execution": {
     "iopub.execute_input": "2024-09-22T21:31:27.732224Z",
     "iopub.status.busy": "2024-09-22T21:31:27.731429Z",
     "iopub.status.idle": "2024-09-22T21:31:27.744427Z",
     "shell.execute_reply": "2024-09-22T21:31:27.743510Z"
    },
    "papermill": {
     "duration": 0.055843,
     "end_time": "2024-09-22T21:31:27.746496",
     "exception": false,
     "start_time": "2024-09-22T21:31:27.690653",
     "status": "completed"
    },
    "tags": []
   },
   "outputs": [
    {
     "data": {
      "text/plain": [
       "tensor([0, 0, 0,  ..., 2, 6, 6])"
      ]
     },
     "execution_count": 17,
     "metadata": {},
     "output_type": "execute_result"
    }
   ],
   "source": [
    "# reduce edge type\n",
    "new_edge_type = torch.from_numpy(nasdaq_edge_type)[edge_mask]\n",
    "_, new_edge_type = torch.unique(new_edge_type, return_inverse=True)\n",
    "new_edge_type"
   ]
  },
  {
   "cell_type": "code",
   "execution_count": null,
   "id": "74c36ee7",
   "metadata": {
    "papermill": {
     "duration": 0.039916,
     "end_time": "2024-09-22T21:31:27.828564",
     "exception": false,
     "start_time": "2024-09-22T21:31:27.788648",
     "status": "completed"
    },
    "tags": []
   },
   "outputs": [],
   "source": []
  },
  {
   "cell_type": "code",
   "execution_count": 18,
   "id": "c8a4387c",
   "metadata": {
    "execution": {
     "iopub.execute_input": "2024-09-22T21:31:27.910074Z",
     "iopub.status.busy": "2024-09-22T21:31:27.909296Z",
     "iopub.status.idle": "2024-09-22T21:31:30.049893Z",
     "shell.execute_reply": "2024-09-22T21:31:30.049015Z"
    },
    "papermill": {
     "duration": 2.184295,
     "end_time": "2024-09-22T21:31:30.052446",
     "exception": false,
     "start_time": "2024-09-22T21:31:27.868151",
     "status": "completed"
    },
    "tags": []
   },
   "outputs": [],
   "source": [
    "df_portfolio = nasdaq_temporal[[\"day\", \"tic\", \"close\", \"high\", \"low\"]]\n",
    "\n",
    "df_portfolio_train = df_portfolio[df_portfolio[\"day\"] < 979]\n",
    "df_portfolio_test = df_portfolio[df_portfolio[\"day\"] >= 979]\n",
    "\n",
    "environment_train = PortfolioOptimizationEnv(\n",
    "        df_portfolio_train,\n",
    "        initial_amount=100000,\n",
    "        comission_fee_pct=0.0025,\n",
    "        time_window=50,\n",
    "        features=[\"close\", \"high\", \"low\"],\n",
    "        time_column=\"day\",\n",
    "        normalize_df=None, # dataframe is already normalized\n",
    "        tics_in_portfolio=tics_in_portfolio\n",
    "    )\n",
    "\n",
    "environment_test = PortfolioOptimizationEnv(\n",
    "        df_portfolio_test,\n",
    "        initial_amount=100000,\n",
    "        comission_fee_pct=0.0025,\n",
    "        time_window=50,\n",
    "        features=[\"close\", \"high\", \"low\"],\n",
    "        time_column=\"day\",\n",
    "        normalize_df=None, # dataframe is already normalized\n",
    "        tics_in_portfolio=tics_in_portfolio\n",
    "    )"
   ]
  },
  {
   "cell_type": "code",
   "execution_count": 19,
   "id": "91e83474",
   "metadata": {
    "execution": {
     "iopub.execute_input": "2024-09-22T21:31:30.135910Z",
     "iopub.status.busy": "2024-09-22T21:31:30.135239Z",
     "iopub.status.idle": "2024-09-22T21:31:30.995633Z",
     "shell.execute_reply": "2024-09-22T21:31:30.994853Z"
    },
    "papermill": {
     "duration": 0.903987,
     "end_time": "2024-09-22T21:31:30.997861",
     "exception": false,
     "start_time": "2024-09-22T21:31:30.093874",
     "status": "completed"
    },
    "tags": []
   },
   "outputs": [],
   "source": [
    "# set PolicyGradient parameters\n",
    "model_kwargs = {\n",
    "    \"lr\": 0.01,\n",
    "    \"policy\": GPM,\n",
    "}\n",
    "\n",
    "# here, we can set GPM's parameters\n",
    "policy_kwargs = {\n",
    "    \"edge_index\": new_edge_index,\n",
    "    \"edge_type\": new_edge_type,\n",
    "    \"nodes_to_select\": nodes_to_select\n",
    "}\n",
    "\n",
    "model = DRLAgent(environment_train).get_model(\"pg\", device, model_kwargs, policy_kwargs)"
   ]
  },
  {
   "cell_type": "code",
   "execution_count": 20,
   "id": "a57a3d4c",
   "metadata": {
    "execution": {
     "iopub.execute_input": "2024-09-22T21:31:31.084356Z",
     "iopub.status.busy": "2024-09-22T21:31:31.083718Z",
     "iopub.status.idle": "2024-09-22T22:30:16.752983Z",
     "shell.execute_reply": "2024-09-22T22:30:16.752012Z"
    },
    "papermill": {
     "duration": 3525.713789,
     "end_time": "2024-09-22T22:30:16.755159",
     "exception": false,
     "start_time": "2024-09-22T21:31:31.041370",
     "status": "completed"
    },
    "tags": []
   },
   "outputs": [
    {
     "name": "stderr",
     "output_type": "stream",
     "text": [
      "  0%|          | 0/2 [00:00<?, ?it/s]"
     ]
    },
    {
     "name": "stdout",
     "output_type": "stream",
     "text": [
      "=================================\n",
      "Initial portfolio value:100000\n",
      "Final portfolio value: 206913.9375\n",
      "Final accumulative portfolio value: 2.069139375\n",
      "Maximum DrawDown: -0.16188132039571357\n",
      "Sharpe ratio: 6.269666835170539\n",
      "=================================\n"
     ]
    },
    {
     "name": "stderr",
     "output_type": "stream",
     "text": [
      " 50%|█████     | 1/2 [29:22<29:22, 1762.93s/it]"
     ]
    },
    {
     "name": "stdout",
     "output_type": "stream",
     "text": [
      "=================================\n",
      "Initial portfolio value:100000\n",
      "Final portfolio value: 349780.25\n",
      "Final accumulative portfolio value: 3.4978025\n",
      "Maximum DrawDown: -0.05764460412673944\n",
      "Sharpe ratio: 10.233600296025056\n",
      "=================================\n"
     ]
    },
    {
     "name": "stderr",
     "output_type": "stream",
     "text": [
      "100%|██████████| 2/2 [58:45<00:00, 1762.83s/it]\n"
     ]
    },
    {
     "data": {
      "text/plain": [
       "<finrl.agents.portfolio_optimization.algorithms.PolicyGradient at 0x791f7b708160>"
      ]
     },
     "execution_count": 20,
     "metadata": {},
     "output_type": "execute_result"
    }
   ],
   "source": [
    "DRLAgent.train_model(model, episodes=2)"
   ]
  },
  {
   "cell_type": "code",
   "execution_count": 21,
   "id": "364291a6",
   "metadata": {
    "execution": {
     "iopub.execute_input": "2024-09-22T22:30:16.838627Z",
     "iopub.status.busy": "2024-09-22T22:30:16.838002Z",
     "iopub.status.idle": "2024-09-22T22:30:16.845582Z",
     "shell.execute_reply": "2024-09-22T22:30:16.844821Z"
    },
    "papermill": {
     "duration": 0.050917,
     "end_time": "2024-09-22T22:30:16.847389",
     "exception": false,
     "start_time": "2024-09-22T22:30:16.796472",
     "status": "completed"
    },
    "tags": []
   },
   "outputs": [],
   "source": [
    "torch.save(model.train_policy.state_dict(), \"policy_GPM.pt\")"
   ]
  },
  {
   "cell_type": "code",
   "execution_count": null,
   "id": "1621dbfa",
   "metadata": {
    "papermill": {
     "duration": 0.040437,
     "end_time": "2024-09-22T22:30:16.928261",
     "exception": false,
     "start_time": "2024-09-22T22:30:16.887824",
     "status": "completed"
    },
    "tags": []
   },
   "outputs": [],
   "source": []
  },
  {
   "cell_type": "code",
   "execution_count": 22,
   "id": "19539b77",
   "metadata": {
    "execution": {
     "iopub.execute_input": "2024-09-22T22:30:17.009860Z",
     "iopub.status.busy": "2024-09-22T22:30:17.009562Z",
     "iopub.status.idle": "2024-09-22T22:37:08.369664Z",
     "shell.execute_reply": "2024-09-22T22:37:08.368663Z"
    },
    "papermill": {
     "duration": 411.403791,
     "end_time": "2024-09-22T22:37:08.372207",
     "exception": false,
     "start_time": "2024-09-22T22:30:16.968416",
     "status": "completed"
    },
    "tags": []
   },
   "outputs": [
    {
     "name": "stdout",
     "output_type": "stream",
     "text": [
      "=================================\n",
      "Initial portfolio value:100000\n",
      "Final portfolio value: 143940.9375\n",
      "Final accumulative portfolio value: 1.439409375\n",
      "Maximum DrawDown: -0.0031985304135730974\n",
      "Sharpe ratio: 21.15628963621472\n",
      "=================================\n"
     ]
    }
   ],
   "source": [
    "GPM_results = {\n",
    "    \"train\": environment_train._asset_memory[\"final\"],\n",
    "    \"test\": {},\n",
    "}\n",
    "\n",
    "# instantiate an architecture with the same arguments used in training\n",
    "# and load with load_state_dict.\n",
    "policy = GPM(new_edge_index, new_edge_type, nodes_to_select, device=device)\n",
    "policy.load_state_dict(torch.load(\"policy_GPM.pt\"))\n",
    "\n",
    "# testing\n",
    "DRLAgent.DRL_validation(model, environment_test, policy=policy)\n",
    "GPM_results[\"test\"] = environment_test._asset_memory[\"final\"]"
   ]
  },
  {
   "cell_type": "code",
   "execution_count": 23,
   "id": "9dfd1ea4",
   "metadata": {
    "execution": {
     "iopub.execute_input": "2024-09-22T22:37:08.455488Z",
     "iopub.status.busy": "2024-09-22T22:37:08.455180Z",
     "iopub.status.idle": "2024-09-22T23:13:20.928391Z",
     "shell.execute_reply": "2024-09-22T23:13:20.927364Z"
    },
    "papermill": {
     "duration": 2172.517095,
     "end_time": "2024-09-22T23:13:20.930777",
     "exception": false,
     "start_time": "2024-09-22T22:37:08.413682",
     "status": "completed"
    },
    "tags": []
   },
   "outputs": [
    {
     "name": "stdout",
     "output_type": "stream",
     "text": [
      "=================================\n",
      "Initial portfolio value:100000\n",
      "Final portfolio value: 210066.515625\n",
      "Final accumulative portfolio value: 2.10066515625\n",
      "Maximum DrawDown: -0.1770357694310173\n",
      "Sharpe ratio: 6.126976338415281\n",
      "=================================\n",
      "=================================\n",
      "Initial portfolio value:100000\n",
      "Final portfolio value: 140385.78125\n",
      "Final accumulative portfolio value: 1.4038578125\n",
      "Maximum DrawDown: -0.001439125798492591\n",
      "Sharpe ratio: 23.930156872458472\n",
      "=================================\n"
     ]
    }
   ],
   "source": [
    "UBAH_results = {\n",
    "    \"train\": {},\n",
    "    \"test\": {},\n",
    "}\n",
    "\n",
    "PORTFOLIO_SIZE = len(tics_in_portfolio)\n",
    "\n",
    "# train period\n",
    "terminated = False\n",
    "environment_train.reset()\n",
    "while not terminated:\n",
    "    action = [0] + [1/PORTFOLIO_SIZE] * PORTFOLIO_SIZE\n",
    "    _, _, terminated, _ = environment_train.step(action)\n",
    "UBAH_results[\"train\"] = environment_train._asset_memory[\"final\"]\n",
    "\n",
    "# test period\n",
    "terminated = False\n",
    "environment_test.reset()\n",
    "while not terminated:\n",
    "    action = [0] + [1/PORTFOLIO_SIZE] * PORTFOLIO_SIZE\n",
    "    _, _, terminated, _ = environment_test.step(action)\n",
    "UBAH_results[\"test\"] = environment_test._asset_memory[\"final\"]"
   ]
  },
  {
   "cell_type": "code",
   "execution_count": null,
   "id": "a8b1e5de",
   "metadata": {
    "papermill": {
     "duration": 0.040617,
     "end_time": "2024-09-22T23:13:21.012465",
     "exception": false,
     "start_time": "2024-09-22T23:13:20.971848",
     "status": "completed"
    },
    "tags": []
   },
   "outputs": [],
   "source": []
  },
  {
   "cell_type": "code",
   "execution_count": 24,
   "id": "97835b51",
   "metadata": {
    "execution": {
     "iopub.execute_input": "2024-09-22T23:13:21.094678Z",
     "iopub.status.busy": "2024-09-22T23:13:21.094062Z",
     "iopub.status.idle": "2024-09-22T23:13:21.437613Z",
     "shell.execute_reply": "2024-09-22T23:13:21.436684Z"
    },
    "papermill": {
     "duration": 0.387001,
     "end_time": "2024-09-22T23:13:21.439684",
     "exception": false,
     "start_time": "2024-09-22T23:13:21.052683",
     "status": "completed"
    },
    "tags": []
   },
   "outputs": [
    {
     "data": {
      "image/png": "[encoded data removed]",
      "text/plain": [
       "<Figure size 1000x600 with 1 Axes>"
      ]
     },
     "metadata": {},
     "output_type": "display_data"
    }
   ],
   "source": [
    "import matplotlib.pyplot as plt\n",
    "%matplotlib inline \n",
    "\n",
    "plt.plot(UBAH_results[\"train\"], label=\"Buy and Hold\")\n",
    "plt.plot(GPM_results[\"train\"], label=\"GPM\")\n",
    "\n",
    "plt.xlabel(\"Days\")\n",
    "plt.ylabel(\"Portfolio Value\")\n",
    "plt.title(\"Performance in training period\")\n",
    "plt.legend()\n",
    "\n",
    "plt.show()"
   ]
  },
  {
   "cell_type": "code",
   "execution_count": 25,
   "id": "ac1e8bf5",
   "metadata": {
    "execution": {
     "iopub.execute_input": "2024-09-22T23:13:21.524581Z",
     "iopub.status.busy": "2024-09-22T23:13:21.523795Z",
     "iopub.status.idle": "2024-09-22T23:13:21.811487Z",
     "shell.execute_reply": "2024-09-22T23:13:21.810538Z"
    },
    "papermill": {
     "duration": 0.331929,
     "end_time": "2024-09-22T23:13:21.813600",
     "exception": false,
     "start_time": "2024-09-22T23:13:21.481671",
     "status": "completed"
    },
    "tags": []
   },
   "outputs": [
    {
     "data": {
      "image/png": "[encoded data removed]",
      "text/plain": [
       "<Figure size 1000x600 with 1 Axes>"
      ]
     },
     "metadata": {},
     "output_type": "display_data"
    }
   ],
   "source": [
    "plt.plot(UBAH_results[\"test\"], label=\"Buy and Hold\")\n",
    "plt.plot(GPM_results[\"test\"], label=\"GPM\")\n",
    "\n",
    "plt.xlabel(\"Days\")\n",
    "plt.ylabel(\"Portfolio Value\")\n",
    "plt.title(\"Performance in testing period\")\n",
    "plt.legend()\n",
    "\n",
    "plt.show()"
   ]
  }
 ],
 "metadata": {
  "kaggle": {
   "accelerator": "nvidiaTeslaT4",
   "dataSources": [],
   "dockerImageVersionId": 30762,
   "isGpuEnabled": true,
   "isInternetEnabled": true,
   "language": "python",
   "sourceType": "notebook"
  },
  "kernelspec": {
   "display_name": "Python 3",
   "language": "python",
   "name": "python3"
  },
  "language_info": {
   "codemirror_mode": {
    "name": "ipython",
    "version": 3
   },
   "file_extension": ".py",
   "mimetype": "text/x-python",
   "name": "python",
   "nbconvert_exporter": "python",
   "pygments_lexer": "ipython3",
   "version": "3.10.14"
  },
  "papermill": {
   "default_parameters": {},
   "duration": 9342.339253,
   "end_time": "2024-09-22T23:13:24.857130",
   "environment_variables": {},
   "exception": null,
   "input_path": "__notebook__.ipynb",
   "output_path": "__notebook__.ipynb",
   "parameters": {},
   "start_time": "2024-09-22T20:37:42.517877",
   "version": "2.6.0"
  }
 },
 "nbformat": 4,
 "nbformat_minor": 5
}
